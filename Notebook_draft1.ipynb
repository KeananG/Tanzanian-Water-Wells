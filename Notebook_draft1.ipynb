{
 "cells": [
  {
   "cell_type": "markdown",
   "metadata": {},
   "source": [
    "![Tanzania](https://www.wvi.org/sites/default/files/2022-06/Water%20for%20Change%20-%20Tanzania.png)\n",
    "# <center> Phase 3 Project: Tanzanian Water Wells <center>\n",
    "   <center>  By: Keanan Ginell"
   ]
  },
  {
   "cell_type": "markdown",
   "metadata": {},
   "source": [
    "# Business Problem\n",
    "\n",
    "Having access to water is a basic human right. The government of Tanzania have asked me to create a model that will help predict wells that are in need of repair. "
   ]
  },
  {
   "cell_type": "code",
   "execution_count": 222,
   "metadata": {},
   "outputs": [],
   "source": [
    "import pandas as pd\n",
    "import numpy as np\n",
    "\n",
    "from sklearn.model_selection import train_test_split, cross_val_score,cross_validate, GridSearchCV\n",
    "from sklearn.dummy import DummyClassifier\n",
    "from sklearn.linear_model import LogisticRegression\n",
    "from sklearn.preprocessing import OneHotEncoder, StandardScaler\n",
    "from sklearn.pipeline import Pipeline\n",
    "from imblearn.pipeline import Pipeline as ImPipeline\n",
    "from sklearn.compose import ColumnTransformer\n",
    "from sklearn.metrics import plot_confusion_matrix, classification_report, log_loss, confusion_matrix,\\\n",
    "                            plot_roc_curve, precision_score, recall_score, accuracy_score, f1_score,\\\n",
    "                            roc_auc_score, roc_curve\n",
    "from sklearn.ensemble import RandomForestClassifier, GradientBoostingClassifier\n",
    "from sklearn.tree import DecisionTreeClassifier\n",
    "from imblearn.over_sampling import SMOTE"
   ]
  },
  {
   "cell_type": "code",
   "execution_count": 82,
   "metadata": {},
   "outputs": [],
   "source": [
    "df_test = pd.read_csv('data/Test_data.csv')\n",
    "df_train_labels= pd.read_csv('data/training_label.csv')\n",
    "df_train_values = pd.read_csv('data/training_values.csv')"
   ]
  },
  {
   "cell_type": "markdown",
   "metadata": {},
   "source": [
    "# Data Overview\n",
    "\n",
    "Data for this project was received from [Tanzanian Water Wells](https://www.drivendata.org/competitions/7/pump-it-up-data-mining-the-water-table/page/25/)\n",
    "\n",
    "Descriptions of Features is located in jupyter notebook Data_overview.ipynb"
   ]
  },
  {
   "cell_type": "code",
   "execution_count": 3,
   "metadata": {
    "scrolled": true
   },
   "outputs": [
    {
     "name": "stdout",
     "output_type": "stream",
     "text": [
      "<class 'pandas.core.frame.DataFrame'>\n",
      "RangeIndex: 59400 entries, 0 to 59399\n",
      "Data columns (total 2 columns):\n",
      " #   Column        Non-Null Count  Dtype \n",
      "---  ------        --------------  ----- \n",
      " 0   id            59400 non-null  int64 \n",
      " 1   status_group  59400 non-null  object\n",
      "dtypes: int64(1), object(1)\n",
      "memory usage: 928.2+ KB\n"
     ]
    }
   ],
   "source": [
    "df_train_labels.info()"
   ]
  },
  {
   "cell_type": "code",
   "execution_count": 348,
   "metadata": {},
   "outputs": [
    {
     "data": {
      "text/plain": [
       "functional                 32259\n",
       "non functional             22824\n",
       "functional needs repair     4317\n",
       "Name: status_group, dtype: int64"
      ]
     },
     "execution_count": 348,
     "metadata": {},
     "output_type": "execute_result"
    }
   ],
   "source": [
    "df_train_labels['status_group'].value_counts()"
   ]
  },
  {
   "cell_type": "code",
   "execution_count": 4,
   "metadata": {
    "scrolled": true
   },
   "outputs": [
    {
     "name": "stdout",
     "output_type": "stream",
     "text": [
      "<class 'pandas.core.frame.DataFrame'>\n",
      "RangeIndex: 59400 entries, 0 to 59399\n",
      "Data columns (total 40 columns):\n",
      " #   Column                 Non-Null Count  Dtype  \n",
      "---  ------                 --------------  -----  \n",
      " 0   id                     59400 non-null  int64  \n",
      " 1   amount_tsh             59400 non-null  float64\n",
      " 2   date_recorded          59400 non-null  object \n",
      " 3   funder                 55765 non-null  object \n",
      " 4   gps_height             59400 non-null  int64  \n",
      " 5   installer              55745 non-null  object \n",
      " 6   longitude              59400 non-null  float64\n",
      " 7   latitude               59400 non-null  float64\n",
      " 8   wpt_name               59400 non-null  object \n",
      " 9   num_private            59400 non-null  int64  \n",
      " 10  basin                  59400 non-null  object \n",
      " 11  subvillage             59029 non-null  object \n",
      " 12  region                 59400 non-null  object \n",
      " 13  region_code            59400 non-null  int64  \n",
      " 14  district_code          59400 non-null  int64  \n",
      " 15  lga                    59400 non-null  object \n",
      " 16  ward                   59400 non-null  object \n",
      " 17  population             59400 non-null  int64  \n",
      " 18  public_meeting         56066 non-null  object \n",
      " 19  recorded_by            59400 non-null  object \n",
      " 20  scheme_management      55523 non-null  object \n",
      " 21  scheme_name            31234 non-null  object \n",
      " 22  permit                 56344 non-null  object \n",
      " 23  construction_year      59400 non-null  int64  \n",
      " 24  extraction_type        59400 non-null  object \n",
      " 25  extraction_type_group  59400 non-null  object \n",
      " 26  extraction_type_class  59400 non-null  object \n",
      " 27  management             59400 non-null  object \n",
      " 28  management_group       59400 non-null  object \n",
      " 29  payment                59400 non-null  object \n",
      " 30  payment_type           59400 non-null  object \n",
      " 31  water_quality          59400 non-null  object \n",
      " 32  quality_group          59400 non-null  object \n",
      " 33  quantity               59400 non-null  object \n",
      " 34  quantity_group         59400 non-null  object \n",
      " 35  source                 59400 non-null  object \n",
      " 36  source_type            59400 non-null  object \n",
      " 37  source_class           59400 non-null  object \n",
      " 38  waterpoint_type        59400 non-null  object \n",
      " 39  waterpoint_type_group  59400 non-null  object \n",
      "dtypes: float64(3), int64(7), object(30)\n",
      "memory usage: 18.1+ MB\n"
     ]
    }
   ],
   "source": [
    "df_train_values.info()"
   ]
  },
  {
   "cell_type": "markdown",
   "metadata": {},
   "source": [
    "**Observations**\n",
    "- date_recorded, construction_year likely needs to be changed to datetime\n",
    "- several nulls\n",
    "- columns need to be checked for usability  "
   ]
  },
  {
   "cell_type": "markdown",
   "metadata": {},
   "source": [
    "# Data Preprocessing\n",
    "\n",
    "1. Checking for null values and duplicates\n",
    "2. Checking for usable columns"
   ]
  },
  {
   "cell_type": "markdown",
   "metadata": {},
   "source": [
    "### Data Cleaning Summary\n",
    "\n",
    "1. Training values and labels can be joined along id column\n",
    "\n",
    "\n",
    "\n",
    "2. Columns deemed irrelevant to wells functionality:\n",
    "    1. date_recorded - (The date the data was entered, ranges from 2002-2013)\n",
    "    2. funder - (who funded the well)\n",
    "    3. wpt_name* - (name of water wells)\n",
    "\n",
    "\n",
    "*Denotes columns dropped but aree useful for further analysis or presentation\n",
    "\n",
    "\n",
    "\n",
    "\n",
    "Potential drops:\n",
    "2. num_private\n",
    "3. "
   ]
  },
  {
   "cell_type": "markdown",
   "metadata": {},
   "source": [
    "## Null and duplicates check"
   ]
  },
  {
   "cell_type": "code",
   "execution_count": 5,
   "metadata": {},
   "outputs": [],
   "source": [
    "def data_prep(df):\n",
    "    # Checks for nulls\n",
    "    print('\\033[01mNull Values:\\033[0m')\n",
    "    x = 0\n",
    "    for k,y in df.isna().sum().items():\n",
    "        if y != 0:\n",
    "            print(f'\\033[31m{k}\\033[00m: {y}') \n",
    "            x += 1\n",
    "    if x == 0:\n",
    "        print('No Nulls')\n",
    "        \n",
    "    # Prints number of duplicates\n",
    "    print(f'\\n\\033[01mNumber of Duplicates: {df.duplicated().sum()}')\n",
    "    # Displays duplicated rows\n",
    "    df.loc[df.duplicated() == True]"
   ]
  },
  {
   "cell_type": "code",
   "execution_count": 6,
   "metadata": {},
   "outputs": [
    {
     "name": "stdout",
     "output_type": "stream",
     "text": [
      "\u001b[01mNull Values:\u001b[0m\n",
      "\u001b[31mfunder\u001b[00m: 3635\n",
      "\u001b[31minstaller\u001b[00m: 3655\n",
      "\u001b[31msubvillage\u001b[00m: 371\n",
      "\u001b[31mpublic_meeting\u001b[00m: 3334\n",
      "\u001b[31mscheme_management\u001b[00m: 3877\n",
      "\u001b[31mscheme_name\u001b[00m: 28166\n",
      "\u001b[31mpermit\u001b[00m: 3056\n",
      "\n",
      "\u001b[01mNumber of Duplicates: 0\n"
     ]
    }
   ],
   "source": [
    "data_prep(df_train_values)"
   ]
  },
  {
   "cell_type": "code",
   "execution_count": 7,
   "metadata": {},
   "outputs": [
    {
     "name": "stdout",
     "output_type": "stream",
     "text": [
      "\u001b[01mNull Values:\u001b[0m\n",
      "No Nulls\n",
      "\n",
      "\u001b[01mNumber of Duplicates: 0\n"
     ]
    }
   ],
   "source": [
    "data_prep(df_train_labels)"
   ]
  },
  {
   "cell_type": "code",
   "execution_count": 8,
   "metadata": {},
   "outputs": [
    {
     "name": "stdout",
     "output_type": "stream",
     "text": [
      "\u001b[01mNull Values:\u001b[0m\n",
      "\u001b[31mfunder\u001b[00m: 869\n",
      "\u001b[31minstaller\u001b[00m: 877\n",
      "\u001b[31msubvillage\u001b[00m: 99\n",
      "\u001b[31mpublic_meeting\u001b[00m: 821\n",
      "\u001b[31mscheme_management\u001b[00m: 969\n",
      "\u001b[31mscheme_name\u001b[00m: 7092\n",
      "\u001b[31mpermit\u001b[00m: 737\n",
      "\n",
      "\u001b[01mNumber of Duplicates: 0\n"
     ]
    }
   ],
   "source": [
    "data_prep(df_test)"
   ]
  },
  {
   "cell_type": "markdown",
   "metadata": {},
   "source": [
    "**Notes:**\n",
    "- No duplicates\n",
    "- training values and test data have nulls in the same columns\n"
   ]
  },
  {
   "cell_type": "markdown",
   "metadata": {},
   "source": [
    "## Analyzing Features"
   ]
  },
  {
   "cell_type": "code",
   "execution_count": 9,
   "metadata": {
    "scrolled": false
   },
   "outputs": [
    {
     "data": {
      "text/plain": [
       "True"
      ]
     },
     "execution_count": 9,
     "metadata": {},
     "output_type": "execute_result"
    }
   ],
   "source": [
    "# Checking if id column is joinable\n",
    "df_train_values['id'].sum() == df_train_labels['id'].sum()"
   ]
  },
  {
   "cell_type": "code",
   "execution_count": 10,
   "metadata": {
    "scrolled": true
   },
   "outputs": [
    {
     "data": {
      "text/html": [
       "<div>\n",
       "<style scoped>\n",
       "    .dataframe tbody tr th:only-of-type {\n",
       "        vertical-align: middle;\n",
       "    }\n",
       "\n",
       "    .dataframe tbody tr th {\n",
       "        vertical-align: top;\n",
       "    }\n",
       "\n",
       "    .dataframe thead th {\n",
       "        text-align: right;\n",
       "    }\n",
       "</style>\n",
       "<table border=\"1\" class=\"dataframe\">\n",
       "  <thead>\n",
       "    <tr style=\"text-align: right;\">\n",
       "      <th></th>\n",
       "      <th>Feature</th>\n",
       "      <th>sample</th>\n",
       "      <th>index</th>\n",
       "      <th>Feature</th>\n",
       "      <th>sample</th>\n",
       "    </tr>\n",
       "  </thead>\n",
       "  <tbody>\n",
       "    <tr>\n",
       "      <th>0</th>\n",
       "      <td>id</td>\n",
       "      <td>69572</td>\n",
       "      <td>20</td>\n",
       "      <td>scheme_management</td>\n",
       "      <td>VWC</td>\n",
       "    </tr>\n",
       "    <tr>\n",
       "      <th>1</th>\n",
       "      <td>amount_tsh</td>\n",
       "      <td>6000</td>\n",
       "      <td>21</td>\n",
       "      <td>scheme_name</td>\n",
       "      <td>Roman</td>\n",
       "    </tr>\n",
       "    <tr>\n",
       "      <th>2</th>\n",
       "      <td>date_recorded</td>\n",
       "      <td>2011-03-14</td>\n",
       "      <td>22</td>\n",
       "      <td>permit</td>\n",
       "      <td>False</td>\n",
       "    </tr>\n",
       "    <tr>\n",
       "      <th>3</th>\n",
       "      <td>funder</td>\n",
       "      <td>Roman</td>\n",
       "      <td>23</td>\n",
       "      <td>construction_year</td>\n",
       "      <td>1999</td>\n",
       "    </tr>\n",
       "    <tr>\n",
       "      <th>4</th>\n",
       "      <td>gps_height</td>\n",
       "      <td>1390</td>\n",
       "      <td>24</td>\n",
       "      <td>extraction_type</td>\n",
       "      <td>gravity</td>\n",
       "    </tr>\n",
       "    <tr>\n",
       "      <th>5</th>\n",
       "      <td>installer</td>\n",
       "      <td>Roman</td>\n",
       "      <td>25</td>\n",
       "      <td>extraction_type_group</td>\n",
       "      <td>gravity</td>\n",
       "    </tr>\n",
       "    <tr>\n",
       "      <th>6</th>\n",
       "      <td>longitude</td>\n",
       "      <td>34.9381</td>\n",
       "      <td>26</td>\n",
       "      <td>extraction_type_class</td>\n",
       "      <td>gravity</td>\n",
       "    </tr>\n",
       "    <tr>\n",
       "      <th>7</th>\n",
       "      <td>latitude</td>\n",
       "      <td>-9.85632</td>\n",
       "      <td>27</td>\n",
       "      <td>management</td>\n",
       "      <td>vwc</td>\n",
       "    </tr>\n",
       "    <tr>\n",
       "      <th>8</th>\n",
       "      <td>wpt_name</td>\n",
       "      <td>none</td>\n",
       "      <td>28</td>\n",
       "      <td>management_group</td>\n",
       "      <td>user-group</td>\n",
       "    </tr>\n",
       "    <tr>\n",
       "      <th>9</th>\n",
       "      <td>num_private</td>\n",
       "      <td>0</td>\n",
       "      <td>29</td>\n",
       "      <td>payment</td>\n",
       "      <td>pay annually</td>\n",
       "    </tr>\n",
       "    <tr>\n",
       "      <th>10</th>\n",
       "      <td>basin</td>\n",
       "      <td>Lake Nyasa</td>\n",
       "      <td>30</td>\n",
       "      <td>payment_type</td>\n",
       "      <td>annually</td>\n",
       "    </tr>\n",
       "    <tr>\n",
       "      <th>11</th>\n",
       "      <td>subvillage</td>\n",
       "      <td>Mnyusi B</td>\n",
       "      <td>31</td>\n",
       "      <td>water_quality</td>\n",
       "      <td>soft</td>\n",
       "    </tr>\n",
       "    <tr>\n",
       "      <th>12</th>\n",
       "      <td>region</td>\n",
       "      <td>Iringa</td>\n",
       "      <td>32</td>\n",
       "      <td>quality_group</td>\n",
       "      <td>good</td>\n",
       "    </tr>\n",
       "    <tr>\n",
       "      <th>13</th>\n",
       "      <td>region_code</td>\n",
       "      <td>11</td>\n",
       "      <td>33</td>\n",
       "      <td>quantity</td>\n",
       "      <td>enough</td>\n",
       "    </tr>\n",
       "    <tr>\n",
       "      <th>14</th>\n",
       "      <td>district_code</td>\n",
       "      <td>5</td>\n",
       "      <td>34</td>\n",
       "      <td>quantity_group</td>\n",
       "      <td>enough</td>\n",
       "    </tr>\n",
       "    <tr>\n",
       "      <th>15</th>\n",
       "      <td>lga</td>\n",
       "      <td>Ludewa</td>\n",
       "      <td>35</td>\n",
       "      <td>source</td>\n",
       "      <td>spring</td>\n",
       "    </tr>\n",
       "    <tr>\n",
       "      <th>16</th>\n",
       "      <td>ward</td>\n",
       "      <td>Mundindi</td>\n",
       "      <td>36</td>\n",
       "      <td>source_type</td>\n",
       "      <td>spring</td>\n",
       "    </tr>\n",
       "    <tr>\n",
       "      <th>17</th>\n",
       "      <td>population</td>\n",
       "      <td>109</td>\n",
       "      <td>37</td>\n",
       "      <td>source_class</td>\n",
       "      <td>groundwater</td>\n",
       "    </tr>\n",
       "    <tr>\n",
       "      <th>18</th>\n",
       "      <td>public_meeting</td>\n",
       "      <td>True</td>\n",
       "      <td>38</td>\n",
       "      <td>waterpoint_type</td>\n",
       "      <td>communal standpipe</td>\n",
       "    </tr>\n",
       "    <tr>\n",
       "      <th>19</th>\n",
       "      <td>recorded_by</td>\n",
       "      <td>GeoData Consultants Ltd</td>\n",
       "      <td>39</td>\n",
       "      <td>waterpoint_type_group</td>\n",
       "      <td>communal standpipe</td>\n",
       "    </tr>\n",
       "  </tbody>\n",
       "</table>\n",
       "</div>"
      ],
      "text/plain": [
       "           Feature                   sample  index                Feature  \\\n",
       "0               id                    69572     20      scheme_management   \n",
       "1       amount_tsh                     6000     21            scheme_name   \n",
       "2    date_recorded               2011-03-14     22                 permit   \n",
       "3           funder                    Roman     23      construction_year   \n",
       "4       gps_height                     1390     24        extraction_type   \n",
       "5        installer                    Roman     25  extraction_type_group   \n",
       "6        longitude                  34.9381     26  extraction_type_class   \n",
       "7         latitude                 -9.85632     27             management   \n",
       "8         wpt_name                     none     28       management_group   \n",
       "9      num_private                        0     29                payment   \n",
       "10           basin               Lake Nyasa     30           payment_type   \n",
       "11      subvillage                 Mnyusi B     31          water_quality   \n",
       "12          region                   Iringa     32          quality_group   \n",
       "13     region_code                       11     33               quantity   \n",
       "14   district_code                        5     34         quantity_group   \n",
       "15             lga                   Ludewa     35                 source   \n",
       "16            ward                 Mundindi     36            source_type   \n",
       "17      population                      109     37           source_class   \n",
       "18  public_meeting                     True     38        waterpoint_type   \n",
       "19     recorded_by  GeoData Consultants Ltd     39  waterpoint_type_group   \n",
       "\n",
       "                sample  \n",
       "0                  VWC  \n",
       "1                Roman  \n",
       "2                False  \n",
       "3                 1999  \n",
       "4              gravity  \n",
       "5              gravity  \n",
       "6              gravity  \n",
       "7                  vwc  \n",
       "8           user-group  \n",
       "9         pay annually  \n",
       "10            annually  \n",
       "11                soft  \n",
       "12                good  \n",
       "13              enough  \n",
       "14              enough  \n",
       "15              spring  \n",
       "16              spring  \n",
       "17         groundwater  \n",
       "18  communal standpipe  \n",
       "19  communal standpipe  "
      ]
     },
     "metadata": {},
     "output_type": "display_data"
    }
   ],
   "source": [
    "# Creating a sample df with columns as rows, to further understand each feature\n",
    "features_sample = df_train_values.head(1).T.reset_index()\n",
    "features_sample.index.name = 'index'\n",
    "features_sample.columns = ['Feature', 'sample']\n",
    "\n",
    "display(pd.concat([features_sample.iloc[0:20],\n",
    "                   features_sample.iloc[20:47].reset_index()],axis=1))"
   ]
  },
  {
   "cell_type": "markdown",
   "metadata": {},
   "source": [
    "### Irrelevant Data: based on description\n",
    "1. date_recorded - (The date the data was entered, ranges from 2002-2013)\n",
    "2. funder - (who funded the well)\n",
    "3. wpt_name* - (name of water wells)\n",
    "4. lat and long\n",
    "5. public_meeting (boolean)\n",
    "6. recorded_by\n",
    "7. permit \n",
    "*Denotes columns dropped but aree useful for further analysis or presentation\n"
   ]
  },
  {
   "cell_type": "code",
   "execution_count": 11,
   "metadata": {
    "scrolled": true
   },
   "outputs": [
    {
     "data": {
      "text/plain": [
       "0.0         41639\n",
       "500.0        3102\n",
       "50.0         2472\n",
       "1000.0       1488\n",
       "20.0         1463\n",
       "            ...  \n",
       "8500.0          1\n",
       "6300.0          1\n",
       "220.0           1\n",
       "138000.0        1\n",
       "12.0            1\n",
       "Name: amount_tsh, Length: 98, dtype: int64"
      ]
     },
     "execution_count": 11,
     "metadata": {},
     "output_type": "execute_result"
    }
   ],
   "source": [
    "# Checking amount_tsh data\n",
    "df_train_values['amount_tsh'].value_counts()"
   ]
  },
  {
   "cell_type": "markdown",
   "metadata": {},
   "source": [
    "Lots of zeros, which is weird because aamount_tsh represents the Total Static Head or the total amount of water available in the well. Zeros would indicate the well to not be functional\n",
    "\n",
    "- Going to drop scheme_name due to large number of nulls, and provides same context as scheme_management"
   ]
  },
  {
   "cell_type": "code",
   "execution_count": 12,
   "metadata": {
    "scrolled": true
   },
   "outputs": [
    {
     "data": {
      "text/plain": [
       "status_group\n",
       "functional                 19706\n",
       "functional needs repair     3048\n",
       "non functional             18885\n",
       "dtype: int64"
      ]
     },
     "execution_count": 12,
     "metadata": {},
     "output_type": "execute_result"
    }
   ],
   "source": [
    "# Futher analyzing amount_tsh to the functionaliy of a well\n",
    "df_train_values.loc[df_train_values['amount_tsh'] == 0.0].groupby(df_train_labels['status_group']).size()"
   ]
  },
  {
   "cell_type": "markdown",
   "metadata": {},
   "source": [
    "- There are 19k functional wells but amount_tsh indicates 41k wells are dry\n",
    "- This either means a miss understanding of amount_tsh by me or those collecting the data, or just incorrect data.\n",
    "- 0.0 could also likley mean null data\n",
    "\n",
    "- This is a likley a poor indicator of if a well needs a repair but rather an indicator if a well should be repaired. This feature will be important when making final recommendations.\n",
    "\n",
    "Below I check if any TSH values are greater then 0, additionally I check if any subregions contain wells with potentially more accurate tsh recordings."
   ]
  },
  {
   "cell_type": "code",
   "execution_count": 13,
   "metadata": {
    "scrolled": true
   },
   "outputs": [
    {
     "data": {
      "text/plain": [
       "amount_tsh\n",
       "0.0         18885\n",
       "0.2             3\n",
       "1.0             3\n",
       "5.0            46\n",
       "6.0            13\n",
       "7.0            15\n",
       "9.0             1\n",
       "10.0          167\n",
       "15.0            1\n",
       "20.0          417\n",
       "25.0           58\n",
       "30.0          180\n",
       "35.0            2\n",
       "40.0           11\n",
       "50.0          731\n",
       "59.0            1\n",
       "60.0            1\n",
       "70.0           14\n",
       "100.0         199\n",
       "150.0          14\n",
       "200.0         311\n",
       "250.0         113\n",
       "300.0         141\n",
       "306.0           1\n",
       "400.0          12\n",
       "450.0           5\n",
       "500.0         602\n",
       "520.0           1\n",
       "550.0           3\n",
       "600.0          38\n",
       "700.0          17\n",
       "750.0          12\n",
       "1000.0        281\n",
       "1200.0         31\n",
       "1500.0         33\n",
       "2000.0        151\n",
       "2400.0         45\n",
       "2500.0         45\n",
       "2800.0          1\n",
       "3000.0         56\n",
       "3500.0          1\n",
       "3600.0          9\n",
       "4000.0         30\n",
       "5000.0         62\n",
       "6000.0         27\n",
       "7000.0          2\n",
       "8000.0          8\n",
       "9000.0          1\n",
       "10000.0         8\n",
       "11000.0         1\n",
       "12000.0         4\n",
       "13000.0         1\n",
       "14000.0         1\n",
       "15000.0         1\n",
       "20000.0         3\n",
       "30000.0         2\n",
       "60000.0         1\n",
       "117000.0        1\n",
       "dtype: int64"
      ]
     },
     "execution_count": 13,
     "metadata": {},
     "output_type": "execute_result"
    }
   ],
   "source": [
    "# Checking if any non functional wells have TSH values greater then 0, T\n",
    "df_train_labels.loc[df_train_labels['status_group']=='non functional'].groupby(df_train_values['amount_tsh']).size()"
   ]
  },
  {
   "cell_type": "code",
   "execution_count": 14,
   "metadata": {},
   "outputs": [],
   "source": [
    "# Checking if any subregions have no 0 TSH values \n",
    "def tsh_checker():\n",
    "    '''\n",
    "    Checks all the location based columns to check if any location feature has no amount_tsh values\n",
    "    '''\n",
    "    print('Subregion contains 0.0 TSH wells:')\n",
    "    # Creating list of subregions that have a amount_tsh of 0.0, subvillages is removed b/c of nulls\n",
    "    locations = ['basin','region','region_code','district_code','lga','ward']\n",
    "    for loc in locations:\n",
    "        # list of subregions wiith 0.0 tsh wells\n",
    "        bad_tsh = [k for k,y in df_train_values.loc[df_train_values['amount_tsh'] == 0.0][loc].value_counts().items()]\n",
    "        # list of of all subregions \n",
    "        subregions = sorted(list(df_train_values[loc].unique()))\n",
    "    # Checking if both lists are the same\n",
    "        if sorted(list(set(bad_tsh))) == subregions:\n",
    "            print(f'{loc}: {False}')\n",
    "        else:\n",
    "            print(f'{loc}: {True}')\n",
    "            tsh_df = df_train_values.drop(df_train_values.loc[df_train_values[loc].isin(bad_tsh)].index) \n",
    "            return(tsh_df)"
   ]
  },
  {
   "cell_type": "code",
   "execution_count": 15,
   "metadata": {},
   "outputs": [
    {
     "name": "stdout",
     "output_type": "stream",
     "text": [
      "Subregion contains 0.0 TSH wells:\n",
      "basin: False\n",
      "region: False\n",
      "region_code: False\n",
      "district_code: False\n",
      "lga: False\n",
      "ward: True\n"
     ]
    }
   ],
   "source": [
    "tsh_df = tsh_checker()"
   ]
  },
  {
   "cell_type": "code",
   "execution_count": 16,
   "metadata": {},
   "outputs": [
    {
     "data": {
      "text/html": [
       "<div>\n",
       "<style scoped>\n",
       "    .dataframe tbody tr th:only-of-type {\n",
       "        vertical-align: middle;\n",
       "    }\n",
       "\n",
       "    .dataframe tbody tr th {\n",
       "        vertical-align: top;\n",
       "    }\n",
       "\n",
       "    .dataframe thead th {\n",
       "        text-align: right;\n",
       "    }\n",
       "</style>\n",
       "<table border=\"1\" class=\"dataframe\">\n",
       "  <thead>\n",
       "    <tr style=\"text-align: right;\">\n",
       "      <th></th>\n",
       "      <th>id</th>\n",
       "      <th>amount_tsh</th>\n",
       "      <th>date_recorded</th>\n",
       "      <th>funder</th>\n",
       "      <th>gps_height</th>\n",
       "      <th>installer</th>\n",
       "      <th>longitude</th>\n",
       "      <th>latitude</th>\n",
       "      <th>wpt_name</th>\n",
       "      <th>num_private</th>\n",
       "      <th>...</th>\n",
       "      <th>payment_type</th>\n",
       "      <th>water_quality</th>\n",
       "      <th>quality_group</th>\n",
       "      <th>quantity</th>\n",
       "      <th>quantity_group</th>\n",
       "      <th>source</th>\n",
       "      <th>source_type</th>\n",
       "      <th>source_class</th>\n",
       "      <th>waterpoint_type</th>\n",
       "      <th>waterpoint_type_group</th>\n",
       "    </tr>\n",
       "  </thead>\n",
       "  <tbody>\n",
       "    <tr>\n",
       "      <th>26</th>\n",
       "      <td>55012</td>\n",
       "      <td>500.0</td>\n",
       "      <td>2013-01-16</td>\n",
       "      <td>Sobodo</td>\n",
       "      <td>200</td>\n",
       "      <td>Kilolo Star</td>\n",
       "      <td>39.370777</td>\n",
       "      <td>-9.942532</td>\n",
       "      <td>Ruhoma Primary School</td>\n",
       "      <td>0</td>\n",
       "      <td>...</td>\n",
       "      <td>monthly</td>\n",
       "      <td>soft</td>\n",
       "      <td>good</td>\n",
       "      <td>enough</td>\n",
       "      <td>enough</td>\n",
       "      <td>machine dbh</td>\n",
       "      <td>borehole</td>\n",
       "      <td>groundwater</td>\n",
       "      <td>hand pump</td>\n",
       "      <td>hand pump</td>\n",
       "    </tr>\n",
       "    <tr>\n",
       "      <th>40</th>\n",
       "      <td>70238</td>\n",
       "      <td>25.0</td>\n",
       "      <td>2013-10-03</td>\n",
       "      <td>Ces(gmbh)</td>\n",
       "      <td>710</td>\n",
       "      <td>DWE</td>\n",
       "      <td>37.420027</td>\n",
       "      <td>-3.476849</td>\n",
       "      <td>Kwa Lusina</td>\n",
       "      <td>0</td>\n",
       "      <td>...</td>\n",
       "      <td>per bucket</td>\n",
       "      <td>soft</td>\n",
       "      <td>good</td>\n",
       "      <td>enough</td>\n",
       "      <td>enough</td>\n",
       "      <td>machine dbh</td>\n",
       "      <td>borehole</td>\n",
       "      <td>groundwater</td>\n",
       "      <td>communal standpipe</td>\n",
       "      <td>communal standpipe</td>\n",
       "    </tr>\n",
       "    <tr>\n",
       "      <th>41</th>\n",
       "      <td>12796</td>\n",
       "      <td>500.0</td>\n",
       "      <td>2011-03-12</td>\n",
       "      <td>Government Of Tanzania</td>\n",
       "      <td>2469</td>\n",
       "      <td>Commu</td>\n",
       "      <td>33.927902</td>\n",
       "      <td>-9.204649</td>\n",
       "      <td>none</td>\n",
       "      <td>0</td>\n",
       "      <td>...</td>\n",
       "      <td>on failure</td>\n",
       "      <td>soft</td>\n",
       "      <td>good</td>\n",
       "      <td>enough</td>\n",
       "      <td>enough</td>\n",
       "      <td>spring</td>\n",
       "      <td>spring</td>\n",
       "      <td>groundwater</td>\n",
       "      <td>communal standpipe</td>\n",
       "      <td>communal standpipe</td>\n",
       "    </tr>\n",
       "    <tr>\n",
       "      <th>50</th>\n",
       "      <td>3228</td>\n",
       "      <td>20.0</td>\n",
       "      <td>2013-02-21</td>\n",
       "      <td>Muwsa</td>\n",
       "      <td>783</td>\n",
       "      <td>MUWSA</td>\n",
       "      <td>37.372858</td>\n",
       "      <td>-3.349292</td>\n",
       "      <td>Upendo</td>\n",
       "      <td>0</td>\n",
       "      <td>...</td>\n",
       "      <td>per bucket</td>\n",
       "      <td>soft</td>\n",
       "      <td>good</td>\n",
       "      <td>insufficient</td>\n",
       "      <td>insufficient</td>\n",
       "      <td>spring</td>\n",
       "      <td>spring</td>\n",
       "      <td>groundwater</td>\n",
       "      <td>communal standpipe</td>\n",
       "      <td>communal standpipe</td>\n",
       "    </tr>\n",
       "    <tr>\n",
       "      <th>96</th>\n",
       "      <td>68554</td>\n",
       "      <td>500.0</td>\n",
       "      <td>2013-02-11</td>\n",
       "      <td>Government Of Tanzania</td>\n",
       "      <td>1274</td>\n",
       "      <td>Government</td>\n",
       "      <td>30.126681</td>\n",
       "      <td>-4.236378</td>\n",
       "      <td>Kwa Nyonyori</td>\n",
       "      <td>0</td>\n",
       "      <td>...</td>\n",
       "      <td>other</td>\n",
       "      <td>soft</td>\n",
       "      <td>good</td>\n",
       "      <td>enough</td>\n",
       "      <td>enough</td>\n",
       "      <td>machine dbh</td>\n",
       "      <td>borehole</td>\n",
       "      <td>groundwater</td>\n",
       "      <td>communal standpipe multiple</td>\n",
       "      <td>communal standpipe</td>\n",
       "    </tr>\n",
       "    <tr>\n",
       "      <th>...</th>\n",
       "      <td>...</td>\n",
       "      <td>...</td>\n",
       "      <td>...</td>\n",
       "      <td>...</td>\n",
       "      <td>...</td>\n",
       "      <td>...</td>\n",
       "      <td>...</td>\n",
       "      <td>...</td>\n",
       "      <td>...</td>\n",
       "      <td>...</td>\n",
       "      <td>...</td>\n",
       "      <td>...</td>\n",
       "      <td>...</td>\n",
       "      <td>...</td>\n",
       "      <td>...</td>\n",
       "      <td>...</td>\n",
       "      <td>...</td>\n",
       "      <td>...</td>\n",
       "      <td>...</td>\n",
       "      <td>...</td>\n",
       "      <td>...</td>\n",
       "    </tr>\n",
       "    <tr>\n",
       "      <th>59313</th>\n",
       "      <td>5355</td>\n",
       "      <td>200.0</td>\n",
       "      <td>2013-02-15</td>\n",
       "      <td>Kidp</td>\n",
       "      <td>1228</td>\n",
       "      <td>KIDP</td>\n",
       "      <td>30.144578</td>\n",
       "      <td>-4.536961</td>\n",
       "      <td>Ccm</td>\n",
       "      <td>0</td>\n",
       "      <td>...</td>\n",
       "      <td>monthly</td>\n",
       "      <td>soft</td>\n",
       "      <td>good</td>\n",
       "      <td>insufficient</td>\n",
       "      <td>insufficient</td>\n",
       "      <td>river</td>\n",
       "      <td>river/lake</td>\n",
       "      <td>surface</td>\n",
       "      <td>communal standpipe</td>\n",
       "      <td>communal standpipe</td>\n",
       "    </tr>\n",
       "    <tr>\n",
       "      <th>59314</th>\n",
       "      <td>64507</td>\n",
       "      <td>6000.0</td>\n",
       "      <td>2011-03-03</td>\n",
       "      <td>Danida</td>\n",
       "      <td>1542</td>\n",
       "      <td>DANID</td>\n",
       "      <td>35.571335</td>\n",
       "      <td>-7.868329</td>\n",
       "      <td>none</td>\n",
       "      <td>0</td>\n",
       "      <td>...</td>\n",
       "      <td>annually</td>\n",
       "      <td>soft</td>\n",
       "      <td>good</td>\n",
       "      <td>enough</td>\n",
       "      <td>enough</td>\n",
       "      <td>spring</td>\n",
       "      <td>spring</td>\n",
       "      <td>groundwater</td>\n",
       "      <td>communal standpipe</td>\n",
       "      <td>communal standpipe</td>\n",
       "    </tr>\n",
       "    <tr>\n",
       "      <th>59330</th>\n",
       "      <td>46438</td>\n",
       "      <td>10.0</td>\n",
       "      <td>2013-06-03</td>\n",
       "      <td>Germany Republi</td>\n",
       "      <td>1137</td>\n",
       "      <td>CES</td>\n",
       "      <td>37.186804</td>\n",
       "      <td>-3.276779</td>\n",
       "      <td>Area 17 Namba 48</td>\n",
       "      <td>0</td>\n",
       "      <td>...</td>\n",
       "      <td>per bucket</td>\n",
       "      <td>soft</td>\n",
       "      <td>good</td>\n",
       "      <td>enough</td>\n",
       "      <td>enough</td>\n",
       "      <td>spring</td>\n",
       "      <td>spring</td>\n",
       "      <td>groundwater</td>\n",
       "      <td>communal standpipe</td>\n",
       "      <td>communal standpipe</td>\n",
       "    </tr>\n",
       "    <tr>\n",
       "      <th>59367</th>\n",
       "      <td>73019</td>\n",
       "      <td>2000.0</td>\n",
       "      <td>2011-03-09</td>\n",
       "      <td>Government Of Tanzania</td>\n",
       "      <td>1977</td>\n",
       "      <td>Commu</td>\n",
       "      <td>34.338899</td>\n",
       "      <td>-9.565553</td>\n",
       "      <td>none</td>\n",
       "      <td>0</td>\n",
       "      <td>...</td>\n",
       "      <td>annually</td>\n",
       "      <td>soft</td>\n",
       "      <td>good</td>\n",
       "      <td>enough</td>\n",
       "      <td>enough</td>\n",
       "      <td>spring</td>\n",
       "      <td>spring</td>\n",
       "      <td>groundwater</td>\n",
       "      <td>communal standpipe</td>\n",
       "      <td>communal standpipe</td>\n",
       "    </tr>\n",
       "    <tr>\n",
       "      <th>59395</th>\n",
       "      <td>60739</td>\n",
       "      <td>10.0</td>\n",
       "      <td>2013-05-03</td>\n",
       "      <td>Germany Republi</td>\n",
       "      <td>1210</td>\n",
       "      <td>CES</td>\n",
       "      <td>37.169807</td>\n",
       "      <td>-3.253847</td>\n",
       "      <td>Area Three Namba 27</td>\n",
       "      <td>0</td>\n",
       "      <td>...</td>\n",
       "      <td>per bucket</td>\n",
       "      <td>soft</td>\n",
       "      <td>good</td>\n",
       "      <td>enough</td>\n",
       "      <td>enough</td>\n",
       "      <td>spring</td>\n",
       "      <td>spring</td>\n",
       "      <td>groundwater</td>\n",
       "      <td>communal standpipe</td>\n",
       "      <td>communal standpipe</td>\n",
       "    </tr>\n",
       "  </tbody>\n",
       "</table>\n",
       "<p>2237 rows × 40 columns</p>\n",
       "</div>"
      ],
      "text/plain": [
       "          id  amount_tsh date_recorded                  funder  gps_height  \\\n",
       "26     55012       500.0    2013-01-16                  Sobodo         200   \n",
       "40     70238        25.0    2013-10-03               Ces(gmbh)         710   \n",
       "41     12796       500.0    2011-03-12  Government Of Tanzania        2469   \n",
       "50      3228        20.0    2013-02-21                   Muwsa         783   \n",
       "96     68554       500.0    2013-02-11  Government Of Tanzania        1274   \n",
       "...      ...         ...           ...                     ...         ...   \n",
       "59313   5355       200.0    2013-02-15                    Kidp        1228   \n",
       "59314  64507      6000.0    2011-03-03                  Danida        1542   \n",
       "59330  46438        10.0    2013-06-03         Germany Republi        1137   \n",
       "59367  73019      2000.0    2011-03-09  Government Of Tanzania        1977   \n",
       "59395  60739        10.0    2013-05-03         Germany Republi        1210   \n",
       "\n",
       "         installer  longitude  latitude               wpt_name  num_private  \\\n",
       "26     Kilolo Star  39.370777 -9.942532  Ruhoma Primary School            0   \n",
       "40             DWE  37.420027 -3.476849             Kwa Lusina            0   \n",
       "41           Commu  33.927902 -9.204649                   none            0   \n",
       "50           MUWSA  37.372858 -3.349292                 Upendo            0   \n",
       "96      Government  30.126681 -4.236378           Kwa Nyonyori            0   \n",
       "...            ...        ...       ...                    ...          ...   \n",
       "59313         KIDP  30.144578 -4.536961                    Ccm            0   \n",
       "59314        DANID  35.571335 -7.868329                   none            0   \n",
       "59330          CES  37.186804 -3.276779       Area 17 Namba 48            0   \n",
       "59367        Commu  34.338899 -9.565553                   none            0   \n",
       "59395          CES  37.169807 -3.253847    Area Three Namba 27            0   \n",
       "\n",
       "       ... payment_type water_quality quality_group      quantity  \\\n",
       "26     ...      monthly          soft          good        enough   \n",
       "40     ...   per bucket          soft          good        enough   \n",
       "41     ...   on failure          soft          good        enough   \n",
       "50     ...   per bucket          soft          good  insufficient   \n",
       "96     ...        other          soft          good        enough   \n",
       "...    ...          ...           ...           ...           ...   \n",
       "59313  ...      monthly          soft          good  insufficient   \n",
       "59314  ...     annually          soft          good        enough   \n",
       "59330  ...   per bucket          soft          good        enough   \n",
       "59367  ...     annually          soft          good        enough   \n",
       "59395  ...   per bucket          soft          good        enough   \n",
       "\n",
       "       quantity_group       source source_type  source_class  \\\n",
       "26             enough  machine dbh    borehole   groundwater   \n",
       "40             enough  machine dbh    borehole   groundwater   \n",
       "41             enough       spring      spring   groundwater   \n",
       "50       insufficient       spring      spring   groundwater   \n",
       "96             enough  machine dbh    borehole   groundwater   \n",
       "...               ...          ...         ...           ...   \n",
       "59313    insufficient        river  river/lake       surface   \n",
       "59314          enough       spring      spring   groundwater   \n",
       "59330          enough       spring      spring   groundwater   \n",
       "59367          enough       spring      spring   groundwater   \n",
       "59395          enough       spring      spring   groundwater   \n",
       "\n",
       "                   waterpoint_type waterpoint_type_group  \n",
       "26                       hand pump             hand pump  \n",
       "40              communal standpipe    communal standpipe  \n",
       "41              communal standpipe    communal standpipe  \n",
       "50              communal standpipe    communal standpipe  \n",
       "96     communal standpipe multiple    communal standpipe  \n",
       "...                            ...                   ...  \n",
       "59313           communal standpipe    communal standpipe  \n",
       "59314           communal standpipe    communal standpipe  \n",
       "59330           communal standpipe    communal standpipe  \n",
       "59367           communal standpipe    communal standpipe  \n",
       "59395           communal standpipe    communal standpipe  \n",
       "\n",
       "[2237 rows x 40 columns]"
      ]
     },
     "execution_count": 16,
     "metadata": {},
     "output_type": "execute_result"
    }
   ],
   "source": [
    "tsh_df"
   ]
  },
  {
   "cell_type": "code",
   "execution_count": 17,
   "metadata": {
    "scrolled": true
   },
   "outputs": [
    {
     "data": {
      "text/plain": [
       "Government Of Tanzania    9084\n",
       "Danida                    3114\n",
       "Hesawa                    2202\n",
       "Rwssp                     1374\n",
       "World Bank                1349\n",
       "                          ... \n",
       "H4ccp                        1\n",
       "Redet                        1\n",
       "Makonder                     1\n",
       "Icap                         1\n",
       "Chacha Issame                1\n",
       "Name: funder, Length: 1897, dtype: int64"
      ]
     },
     "execution_count": 17,
     "metadata": {},
     "output_type": "execute_result"
    }
   ],
   "source": [
    "# Checking funder data\n",
    "df_train_values['funder'].value_counts()"
   ]
  },
  {
   "cell_type": "markdown",
   "metadata": {},
   "source": [
    "Funder data contain 3635 null values, futhermore the impact a funder has on well condition is likley due to complicated underlying reasons. The installer for example will have a more direct impact and is likely already Influenced by the funder. Going to attempt one data set using this feature."
   ]
  },
  {
   "cell_type": "code",
   "execution_count": 18,
   "metadata": {},
   "outputs": [
    {
     "data": {
      "text/plain": [
       " 0       20438\n",
       "-15         60\n",
       "-16         55\n",
       "-13         55\n",
       "-20         52\n",
       "         ...  \n",
       " 2285        1\n",
       " 2424        1\n",
       " 2552        1\n",
       " 2413        1\n",
       " 2385        1\n",
       "Name: gps_height, Length: 2428, dtype: int64"
      ]
     },
     "execution_count": 18,
     "metadata": {},
     "output_type": "execute_result"
    }
   ],
   "source": [
    "# Checking gps height data\n",
    "df_train_values['gps_height'].value_counts()"
   ]
  },
  {
   "cell_type": "markdown",
   "metadata": {},
   "source": [
    "No units given that max is 2770 it is 99% likley to be in meters.\n",
    "GPS data contains mostly 0 which is very unlikley, I will be plotting a elevation map to confirm this, \n",
    "- dropped for main list"
   ]
  },
  {
   "cell_type": "code",
   "execution_count": 19,
   "metadata": {
    "scrolled": false
   },
   "outputs": [
    {
     "data": {
      "text/plain": [
       "DWE                17402\n",
       "Government          1825\n",
       "RWE                 1206\n",
       "Commu               1060\n",
       "DANIDA              1050\n",
       "                   ...  \n",
       "Wedeco                 1\n",
       "Teonas Wambura         1\n",
       "SUNAMCO                1\n",
       "KDC                    1\n",
       "RESOLUTE MINING        1\n",
       "Name: installer, Length: 2145, dtype: int64"
      ]
     },
     "execution_count": 19,
     "metadata": {},
     "output_type": "execute_result"
    }
   ],
   "source": [
    "# Checking installer data\n",
    "df_train_values['installer'].value_counts()"
   ]
  },
  {
   "cell_type": "markdown",
   "metadata": {},
   "source": [
    "- 3655 null values\n",
    "- Going to drop from main list"
   ]
  },
  {
   "cell_type": "code",
   "execution_count": 20,
   "metadata": {
    "scrolled": true
   },
   "outputs": [
    {
     "data": {
      "text/plain": [
       "0      58643\n",
       "6         81\n",
       "1         73\n",
       "5         46\n",
       "8         46\n",
       "       ...  \n",
       "180        1\n",
       "213        1\n",
       "23         1\n",
       "55         1\n",
       "94         1\n",
       "Name: num_private, Length: 65, dtype: int64"
      ]
     },
     "execution_count": 20,
     "metadata": {},
     "output_type": "execute_result"
    }
   ],
   "source": [
    "# Checking num_private data\n",
    "# no explanation given, likely government vs privately funded or maintained well\n",
    "df_train_values['num_private'].value_counts()"
   ]
  },
  {
   "cell_type": "markdown",
   "metadata": {},
   "source": [
    "- No indication what 0 represents likeley indicates a governement funded or maintained well\n",
    "- review"
   ]
  },
  {
   "cell_type": "code",
   "execution_count": 21,
   "metadata": {
    "scrolled": true
   },
   "outputs": [
    {
     "data": {
      "text/plain": [
       "0       21381\n",
       "1        7025\n",
       "200      1940\n",
       "150      1892\n",
       "250      1681\n",
       "        ...  \n",
       "3241        1\n",
       "1960        1\n",
       "1685        1\n",
       "2248        1\n",
       "1439        1\n",
       "Name: population, Length: 1049, dtype: int64"
      ]
     },
     "execution_count": 21,
     "metadata": {},
     "output_type": "execute_result"
    }
   ],
   "source": [
    "# Checking population data\n",
    "df_train_values['population'].value_counts()"
   ]
  },
  {
   "cell_type": "markdown",
   "metadata": {},
   "source": [
    "- Could be indicator of how often a well is used, given the large amount of nulls this data features accuracy is questionable. unlikley to give an accurate.\n",
    "- Population is defined as population around the well not necessarily the population that uses the well. "
   ]
  },
  {
   "cell_type": "code",
   "execution_count": 22,
   "metadata": {
    "scrolled": true
   },
   "outputs": [
    {
     "data": {
      "text/plain": [
       "VWC                 36793\n",
       "WUG                  5206\n",
       "Water authority      3153\n",
       "WUA                  2883\n",
       "Water Board          2748\n",
       "Parastatal           1680\n",
       "Private operator     1063\n",
       "Company              1061\n",
       "Other                 766\n",
       "SWC                    97\n",
       "Trust                  72\n",
       "None                    1\n",
       "Name: scheme_management, dtype: int64"
      ]
     },
     "execution_count": 22,
     "metadata": {},
     "output_type": "execute_result"
    }
   ],
   "source": [
    "# Checking scheme_management data\n",
    "df_train_values['scheme_management'].value_counts()"
   ]
  },
  {
   "cell_type": "markdown",
   "metadata": {},
   "source": [
    "- 3800 nulls, going to keep for now "
   ]
  },
  {
   "cell_type": "code",
   "execution_count": 23,
   "metadata": {
    "scrolled": true
   },
   "outputs": [
    {
     "data": {
      "text/plain": [
       "0       20709\n",
       "2010     2645\n",
       "2008     2613\n",
       "2009     2533\n",
       "2000     2091\n",
       "2007     1587\n",
       "2006     1471\n",
       "2003     1286\n",
       "2011     1256\n",
       "2004     1123\n",
       "2012     1084\n",
       "2002     1075\n",
       "1978     1037\n",
       "1995     1014\n",
       "2005     1011\n",
       "1999      979\n",
       "1998      966\n",
       "1990      954\n",
       "1985      945\n",
       "1980      811\n",
       "1996      811\n",
       "1984      779\n",
       "1982      744\n",
       "1994      738\n",
       "1972      708\n",
       "1974      676\n",
       "1997      644\n",
       "1992      640\n",
       "1993      608\n",
       "2001      540\n",
       "1988      521\n",
       "1983      488\n",
       "1975      437\n",
       "1986      434\n",
       "1976      414\n",
       "1970      411\n",
       "1991      324\n",
       "1989      316\n",
       "1987      302\n",
       "1981      238\n",
       "1977      202\n",
       "1979      192\n",
       "1973      184\n",
       "2013      176\n",
       "1971      145\n",
       "1960      102\n",
       "1967       88\n",
       "1963       85\n",
       "1968       77\n",
       "1969       59\n",
       "1964       40\n",
       "1962       30\n",
       "1961       21\n",
       "1965       19\n",
       "1966       17\n",
       "Name: construction_year, dtype: int64"
      ]
     },
     "execution_count": 23,
     "metadata": {},
     "output_type": "execute_result"
    }
   ],
   "source": [
    "# Checking construction_year data\n",
    "df_train_values['construction_year'].value_counts()"
   ]
  },
  {
   "cell_type": "code",
   "execution_count": 77,
   "metadata": {},
   "outputs": [
    {
     "data": {
      "text/plain": [
       "'2002-10-14'"
      ]
     },
     "execution_count": 77,
     "metadata": {},
     "output_type": "execute_result"
    }
   ],
   "source": [
    "df_train_values['date_recorded'].min()"
   ]
  },
  {
   "cell_type": "markdown",
   "metadata": {},
   "source": [
    "20709 points are missing construction year. While important given the large value of nulls, I will be dropping"
   ]
  },
  {
   "cell_type": "code",
   "execution_count": 24,
   "metadata": {
    "scrolled": false
   },
   "outputs": [
    {
     "name": "stdout",
     "output_type": "stream",
     "text": [
      "\u001b[01mextraction_type_group\u001b[00m\n",
      "gravity            26780\n",
      "nira/tanira         8154\n",
      "other               6430\n",
      "submersible         6179\n",
      "swn 80              3670\n",
      "mono                2865\n",
      "india mark ii       2400\n",
      "afridev             1770\n",
      "rope pump            451\n",
      "other handpump       364\n",
      "other motorpump      122\n",
      "wind-powered         117\n",
      "india mark iii        98\n",
      "Name: extraction_type_group, dtype: int64\n",
      "\n",
      "\u001b[01mextraction_type_class\u001b[00m\n",
      "gravity         26780\n",
      "handpump        16456\n",
      "other            6430\n",
      "submersible      6179\n",
      "motorpump        2987\n",
      "rope pump         451\n",
      "wind-powered      117\n",
      "Name: extraction_type_class, dtype: int64\n",
      "\n",
      "\u001b[01mextraction_type\u001b[00m\n",
      "gravity                      26780\n",
      "nira/tanira                   8154\n",
      "other                         6430\n",
      "submersible                   4764\n",
      "swn 80                        3670\n",
      "mono                          2865\n",
      "india mark ii                 2400\n",
      "afridev                       1770\n",
      "ksb                           1415\n",
      "other - rope pump              451\n",
      "other - swn 81                 229\n",
      "windmill                       117\n",
      "india mark iii                  98\n",
      "cemo                            90\n",
      "other - play pump               85\n",
      "walimi                          48\n",
      "climax                          32\n",
      "other - mkulima/shinyanga        2\n",
      "Name: extraction_type, dtype: int64\n",
      "\n"
     ]
    }
   ],
   "source": [
    "# Checking extraction data\n",
    "extraction = df_train_values[['extraction_type_group','extraction_type_class','extraction_type']]\n",
    "for feature in extraction.columns:\n",
    "    print(f'\\033[01m{feature}\\033[00m\\n{extraction[feature].value_counts()}\\n')"
   ]
  },
  {
   "cell_type": "markdown",
   "metadata": {},
   "source": [
    "All 3 features show the same meassage, will only keep 1.\n",
    "- Extraction_type has the best resolution or most detailed, keeping extraction_type"
   ]
  },
  {
   "cell_type": "code",
   "execution_count": 25,
   "metadata": {
    "scrolled": true
   },
   "outputs": [
    {
     "data": {
      "text/plain": [
       "vwc                 40507\n",
       "wug                  6515\n",
       "water board          2933\n",
       "wua                  2535\n",
       "private operator     1971\n",
       "parastatal           1768\n",
       "water authority       904\n",
       "other                 844\n",
       "company               685\n",
       "unknown               561\n",
       "other - school         99\n",
       "trust                  78\n",
       "Name: management, dtype: int64"
      ]
     },
     "execution_count": 25,
     "metadata": {},
     "output_type": "execute_result"
    }
   ],
   "source": [
    "# Checking management data\n",
    "df_train_values['management'].value_counts()"
   ]
  },
  {
   "cell_type": "code",
   "execution_count": 26,
   "metadata": {},
   "outputs": [
    {
     "data": {
      "text/plain": [
       "user-group    52490\n",
       "commercial     3638\n",
       "parastatal     1768\n",
       "other           943\n",
       "unknown         561\n",
       "Name: management_group, dtype: int64"
      ]
     },
     "execution_count": 26,
     "metadata": {},
     "output_type": "execute_result"
    }
   ],
   "source": [
    "# Checking management data\n",
    "df_train_values['management_group'].value_counts()"
   ]
  },
  {
   "cell_type": "markdown",
   "metadata": {},
   "source": [
    "Going to keep management and drop management_group, though if model is overfitting this will be swapped"
   ]
  },
  {
   "cell_type": "code",
   "execution_count": 27,
   "metadata": {},
   "outputs": [
    {
     "data": {
      "text/plain": [
       "never pay                25348\n",
       "pay per bucket            8985\n",
       "pay monthly               8300\n",
       "unknown                   8157\n",
       "pay when scheme fails     3914\n",
       "pay annually              3642\n",
       "other                     1054\n",
       "Name: payment, dtype: int64"
      ]
     },
     "execution_count": 27,
     "metadata": {},
     "output_type": "execute_result"
    }
   ],
   "source": [
    "# Checking payment data\n",
    "df_train_values['payment'].value_counts()"
   ]
  },
  {
   "cell_type": "markdown",
   "metadata": {},
   "source": [
    "Might be a good indication of local funding types, payment and payment_type seem to be the same\n",
    "- dropping payment_type"
   ]
  },
  {
   "cell_type": "code",
   "execution_count": 28,
   "metadata": {
    "scrolled": false
   },
   "outputs": [
    {
     "data": {
      "text/plain": [
       "soft                  50818\n",
       "salty                  4856\n",
       "unknown                1876\n",
       "milky                   804\n",
       "coloured                490\n",
       "salty abandoned         339\n",
       "fluoride                200\n",
       "fluoride abandoned       17\n",
       "Name: water_quality, dtype: int64"
      ]
     },
     "execution_count": 28,
     "metadata": {},
     "output_type": "execute_result"
    }
   ],
   "source": [
    "# Checking water_quality data\n",
    "df_train_values['water_quality'].value_counts()"
   ]
  },
  {
   "cell_type": "markdown",
   "metadata": {},
   "source": [
    "Associated with quality_group, dropping quality_group and keeping water_quality"
   ]
  },
  {
   "cell_type": "code",
   "execution_count": 29,
   "metadata": {
    "scrolled": true
   },
   "outputs": [
    {
     "data": {
      "text/plain": [
       "enough          33186\n",
       "insufficient    15129\n",
       "dry              6246\n",
       "seasonal         4050\n",
       "unknown           789\n",
       "Name: quantity, dtype: int64"
      ]
     },
     "execution_count": 29,
     "metadata": {},
     "output_type": "execute_result"
    }
   ],
   "source": [
    "# Checking quantity data\n",
    "df_train_values['quantity'].value_counts()"
   ]
  },
  {
   "cell_type": "markdown",
   "metadata": {},
   "source": [
    "Same as quantity_group, keeping quantity and dropping quantity_group"
   ]
  },
  {
   "cell_type": "code",
   "execution_count": 30,
   "metadata": {
    "scrolled": true
   },
   "outputs": [
    {
     "data": {
      "text/plain": [
       "spring                  17021\n",
       "shallow well            16824\n",
       "machine dbh             11075\n",
       "river                    9612\n",
       "rainwater harvesting     2295\n",
       "hand dtw                  874\n",
       "lake                      765\n",
       "dam                       656\n",
       "other                     212\n",
       "unknown                    66\n",
       "Name: source, dtype: int64"
      ]
     },
     "execution_count": 30,
     "metadata": {},
     "output_type": "execute_result"
    }
   ],
   "source": [
    "# Checking source data\n",
    "df_train_values['source'].value_counts()"
   ]
  },
  {
   "cell_type": "markdown",
   "metadata": {},
   "source": [
    "Once again same information beeing conveyed as source_type and source_class,\n",
    "\n",
    "Keeping source, unless overfitting and then will use source_class"
   ]
  },
  {
   "cell_type": "code",
   "execution_count": 31,
   "metadata": {
    "scrolled": true
   },
   "outputs": [
    {
     "data": {
      "text/plain": [
       "communal standpipe             28522\n",
       "hand pump                      17488\n",
       "other                           6380\n",
       "communal standpipe multiple     6103\n",
       "improved spring                  784\n",
       "cattle trough                    116\n",
       "dam                                7\n",
       "Name: waterpoint_type, dtype: int64"
      ]
     },
     "execution_count": 31,
     "metadata": {},
     "output_type": "execute_result"
    }
   ],
   "source": [
    "# Checking waterpoint_type data\n",
    "df_train_values['waterpoint_type'].value_counts()"
   ]
  },
  {
   "cell_type": "markdown",
   "metadata": {},
   "source": [
    "Same information as waterpoint_type_group, keeping waterpoint_type, dropping waterpoint_type_group"
   ]
  },
  {
   "cell_type": "markdown",
   "metadata": {},
   "source": [
    "## Location Based Features\n",
    "1. Check which location feature has the best resolution (aka. fewest wells in each feature or largest length), excluding lat and long\n",
    "2. What does each location feature represent\n"
   ]
  },
  {
   "cell_type": "code",
   "execution_count": 32,
   "metadata": {},
   "outputs": [],
   "source": [
    "location = df_train_values[['basin','subvillage','region','region_code',\n",
    "                            'district_code','lga','ward']]"
   ]
  },
  {
   "cell_type": "code",
   "execution_count": 33,
   "metadata": {
    "scrolled": true
   },
   "outputs": [
    {
     "name": "stdout",
     "output_type": "stream",
     "text": [
      "\u001b[01mNull Values:\u001b[0m\n",
      "\u001b[31msubvillage\u001b[00m: 371\n",
      "\n",
      "\u001b[01mNumber of Duplicates: 31795\n"
     ]
    }
   ],
   "source": [
    "data_prep(location)"
   ]
  },
  {
   "cell_type": "code",
   "execution_count": 34,
   "metadata": {},
   "outputs": [
    {
     "name": "stdout",
     "output_type": "stream",
     "text": [
      "\u001b[01mbasin\u001b[00m\n",
      "Lake Victoria              10248\n",
      "Pangani                     8940\n",
      "Rufiji                      7976\n",
      "Internal                    7785\n",
      "Lake Tanganyika             6432\n",
      "Wami / Ruvu                 5987\n",
      "Lake Nyasa                  5085\n",
      "Ruvuma / Southern Coast     4493\n",
      "Lake Rukwa                  2454\n",
      "Name: basin, dtype: int64\n",
      "\n",
      "\u001b[01msubvillage\u001b[00m\n",
      "Madukani         508\n",
      "Shuleni          506\n",
      "Majengo          502\n",
      "Kati             373\n",
      "Mtakuja          262\n",
      "                ... \n",
      "Nyahnundu          1\n",
      "Nepolisi           1\n",
      "Miule Shuleni      1\n",
      "Kumurumo           1\n",
      "Ugowola A          1\n",
      "Name: subvillage, Length: 19287, dtype: int64\n",
      "\n",
      "\u001b[01mregion\u001b[00m\n",
      "Iringa           5294\n",
      "Shinyanga        4982\n",
      "Mbeya            4639\n",
      "Kilimanjaro      4379\n",
      "Morogoro         4006\n",
      "Arusha           3350\n",
      "Kagera           3316\n",
      "Mwanza           3102\n",
      "Kigoma           2816\n",
      "Ruvuma           2640\n",
      "Pwani            2635\n",
      "Tanga            2547\n",
      "Dodoma           2201\n",
      "Singida          2093\n",
      "Mara             1969\n",
      "Tabora           1959\n",
      "Rukwa            1808\n",
      "Mtwara           1730\n",
      "Manyara          1583\n",
      "Lindi            1546\n",
      "Dar es Salaam     805\n",
      "Name: region, dtype: int64\n",
      "\n",
      "\u001b[01mregion_code\u001b[00m\n",
      "11    5300\n",
      "17    5011\n",
      "12    4639\n",
      "3     4379\n",
      "5     4040\n",
      "18    3324\n",
      "19    3047\n",
      "2     3024\n",
      "16    2816\n",
      "10    2640\n",
      "4     2513\n",
      "1     2201\n",
      "13    2093\n",
      "14    1979\n",
      "20    1969\n",
      "15    1808\n",
      "6     1609\n",
      "21    1583\n",
      "80    1238\n",
      "60    1025\n",
      "90     917\n",
      "7      805\n",
      "99     423\n",
      "9      390\n",
      "24     326\n",
      "8      300\n",
      "40       1\n",
      "Name: region_code, dtype: int64\n",
      "\n",
      "\u001b[01mdistrict_code\u001b[00m\n",
      "1     12203\n",
      "2     11173\n",
      "3      9998\n",
      "4      8999\n",
      "5      4356\n",
      "6      4074\n",
      "7      3343\n",
      "8      1043\n",
      "30      995\n",
      "33      874\n",
      "53      745\n",
      "43      505\n",
      "13      391\n",
      "23      293\n",
      "63      195\n",
      "62      109\n",
      "60       63\n",
      "0        23\n",
      "80       12\n",
      "67        6\n",
      "Name: district_code, dtype: int64\n",
      "\n",
      "\u001b[01mlga\u001b[00m\n",
      "Njombe          2503\n",
      "Arusha Rural    1252\n",
      "Moshi Rural     1251\n",
      "Bariadi         1177\n",
      "Rungwe          1106\n",
      "                ... \n",
      "Moshi Urban       79\n",
      "Kigoma Urban      71\n",
      "Arusha Urban      63\n",
      "Lindi Urban       21\n",
      "Nyamagana          1\n",
      "Name: lga, Length: 125, dtype: int64\n",
      "\n",
      "\u001b[01mward\u001b[00m\n",
      "Igosi        307\n",
      "Imalinyi     252\n",
      "Siha Kati    232\n",
      "Mdandu       231\n",
      "Nduruma      217\n",
      "            ... \n",
      "Nsemulwa       1\n",
      "Mitole         1\n",
      "Sungwisi       1\n",
      "Thawi          1\n",
      "Izia           1\n",
      "Name: ward, Length: 2092, dtype: int64\n",
      "\n"
     ]
    }
   ],
   "source": [
    "for feature in location.columns:\n",
    "    print(f'\\033[01m{feature}\\033[00m\\n{location[feature].value_counts()}\\n')"
   ]
  },
  {
   "cell_type": "markdown",
   "metadata": {},
   "source": [
    "**Notes:**\n",
    "- Region and region code don't line up \n",
    "- subvillage contains several nulls \n",
    "- ward or subvillage appears to have the most resolution\n",
    "- Seems odd that a subvillage has a higher well count then wards given that subvillages make up wards.\n",
    "    - Several subvillage's have well counts of 500 while the highest well count for ward is 307.\n",
    "    - The true scale and definition of subvillage is questionable\n",
    "\n",
    "Used the following links to further understand the scale of each feature\n",
    "[Tanzania Subdivisions](https://en.wikipedia.org/wiki/Subdivisions_of_Tanzania) and\n",
    "[worldbank Tanzania - Region & District Boundary](https://datacatalog.worldbank.org/search/dataset/0039598)\n"
   ]
  },
  {
   "cell_type": "code",
   "execution_count": 35,
   "metadata": {
    "scrolled": false
   },
   "outputs": [
    {
     "data": {
      "text/html": [
       "<div>\n",
       "<style scoped>\n",
       "    .dataframe tbody tr th:only-of-type {\n",
       "        vertical-align: middle;\n",
       "    }\n",
       "\n",
       "    .dataframe tbody tr th {\n",
       "        vertical-align: top;\n",
       "    }\n",
       "\n",
       "    .dataframe thead th {\n",
       "        text-align: right;\n",
       "    }\n",
       "</style>\n",
       "<table border=\"1\" class=\"dataframe\">\n",
       "  <thead>\n",
       "    <tr style=\"text-align: right;\">\n",
       "      <th></th>\n",
       "      <th>basin</th>\n",
       "      <th>subvillage</th>\n",
       "      <th>region</th>\n",
       "      <th>region_code</th>\n",
       "      <th>district_code</th>\n",
       "      <th>lga</th>\n",
       "      <th>ward</th>\n",
       "    </tr>\n",
       "  </thead>\n",
       "  <tbody>\n",
       "    <tr>\n",
       "      <th>16</th>\n",
       "      <td>Rufiji</td>\n",
       "      <td>Kidudumo</td>\n",
       "      <td>Iringa</td>\n",
       "      <td>11</td>\n",
       "      <td>4</td>\n",
       "      <td>Njombe</td>\n",
       "      <td>Mdandu</td>\n",
       "    </tr>\n",
       "    <tr>\n",
       "      <th>194</th>\n",
       "      <td>Rufiji</td>\n",
       "      <td>Sadani</td>\n",
       "      <td>Iringa</td>\n",
       "      <td>11</td>\n",
       "      <td>4</td>\n",
       "      <td>Njombe</td>\n",
       "      <td>Mdandu</td>\n",
       "    </tr>\n",
       "    <tr>\n",
       "      <th>392</th>\n",
       "      <td>Rufiji</td>\n",
       "      <td>Kati</td>\n",
       "      <td>Iringa</td>\n",
       "      <td>11</td>\n",
       "      <td>4</td>\n",
       "      <td>Njombe</td>\n",
       "      <td>Mdandu</td>\n",
       "    </tr>\n",
       "    <tr>\n",
       "      <th>452</th>\n",
       "      <td>Rufiji</td>\n",
       "      <td>Mvinila</td>\n",
       "      <td>Iringa</td>\n",
       "      <td>11</td>\n",
       "      <td>4</td>\n",
       "      <td>Njombe</td>\n",
       "      <td>Mdandu</td>\n",
       "    </tr>\n",
       "    <tr>\n",
       "      <th>457</th>\n",
       "      <td>Rufiji</td>\n",
       "      <td>Uchiliwala</td>\n",
       "      <td>Iringa</td>\n",
       "      <td>11</td>\n",
       "      <td>4</td>\n",
       "      <td>Njombe</td>\n",
       "      <td>Mdandu</td>\n",
       "    </tr>\n",
       "    <tr>\n",
       "      <th>...</th>\n",
       "      <td>...</td>\n",
       "      <td>...</td>\n",
       "      <td>...</td>\n",
       "      <td>...</td>\n",
       "      <td>...</td>\n",
       "      <td>...</td>\n",
       "      <td>...</td>\n",
       "    </tr>\n",
       "    <tr>\n",
       "      <th>57729</th>\n",
       "      <td>Rufiji</td>\n",
       "      <td>Mawindi</td>\n",
       "      <td>Iringa</td>\n",
       "      <td>11</td>\n",
       "      <td>4</td>\n",
       "      <td>Njombe</td>\n",
       "      <td>Mdandu</td>\n",
       "    </tr>\n",
       "    <tr>\n",
       "      <th>57864</th>\n",
       "      <td>Rufiji</td>\n",
       "      <td>Kati</td>\n",
       "      <td>Iringa</td>\n",
       "      <td>11</td>\n",
       "      <td>4</td>\n",
       "      <td>Njombe</td>\n",
       "      <td>Mdandu</td>\n",
       "    </tr>\n",
       "    <tr>\n",
       "      <th>57969</th>\n",
       "      <td>Rufiji</td>\n",
       "      <td>Ngelele</td>\n",
       "      <td>Iringa</td>\n",
       "      <td>11</td>\n",
       "      <td>4</td>\n",
       "      <td>Njombe</td>\n",
       "      <td>Mdandu</td>\n",
       "    </tr>\n",
       "    <tr>\n",
       "      <th>58660</th>\n",
       "      <td>Rufiji</td>\n",
       "      <td>Kilolelo</td>\n",
       "      <td>Iringa</td>\n",
       "      <td>11</td>\n",
       "      <td>4</td>\n",
       "      <td>Njombe</td>\n",
       "      <td>Mdandu</td>\n",
       "    </tr>\n",
       "    <tr>\n",
       "      <th>58874</th>\n",
       "      <td>Rufiji</td>\n",
       "      <td>Mahonhole</td>\n",
       "      <td>Iringa</td>\n",
       "      <td>11</td>\n",
       "      <td>4</td>\n",
       "      <td>Njombe</td>\n",
       "      <td>Mdandu</td>\n",
       "    </tr>\n",
       "  </tbody>\n",
       "</table>\n",
       "<p>231 rows × 7 columns</p>\n",
       "</div>"
      ],
      "text/plain": [
       "        basin  subvillage  region  region_code  district_code     lga    ward\n",
       "16     Rufiji    Kidudumo  Iringa           11              4  Njombe  Mdandu\n",
       "194    Rufiji      Sadani  Iringa           11              4  Njombe  Mdandu\n",
       "392    Rufiji        Kati  Iringa           11              4  Njombe  Mdandu\n",
       "452    Rufiji     Mvinila  Iringa           11              4  Njombe  Mdandu\n",
       "457    Rufiji  Uchiliwala  Iringa           11              4  Njombe  Mdandu\n",
       "...       ...         ...     ...          ...            ...     ...     ...\n",
       "57729  Rufiji     Mawindi  Iringa           11              4  Njombe  Mdandu\n",
       "57864  Rufiji        Kati  Iringa           11              4  Njombe  Mdandu\n",
       "57969  Rufiji     Ngelele  Iringa           11              4  Njombe  Mdandu\n",
       "58660  Rufiji    Kilolelo  Iringa           11              4  Njombe  Mdandu\n",
       "58874  Rufiji   Mahonhole  Iringa           11              4  Njombe  Mdandu\n",
       "\n",
       "[231 rows x 7 columns]"
      ]
     },
     "execution_count": 35,
     "metadata": {},
     "output_type": "execute_result"
    }
   ],
   "source": [
    "# Checking scale of features\n",
    "location.loc[df_train_values['ward'] == 'Mdandu']"
   ]
  },
  {
   "cell_type": "markdown",
   "metadata": {},
   "source": [
    "### Understanding Location data\n",
    "- Inorder for the lowest resolution or largest scale to the heightest resolution or smallest scale,\n",
    "    - Basin, Region, Districts, lga, ward, and sub-village\n",
    "\n",
    "- Due to null values, and unclear interpretation I am dropping sub villages\n",
    "- Keeping basin and ward\n",
    "- Going to create a second dataset using subvillages instead of ward and remove null values.\n",
    "- lat and long will be dropped at the end such that they can easily be used for generating maps"
   ]
  },
  {
   "cell_type": "markdown",
   "metadata": {},
   "source": [
    "# Creating Well Age Column"
   ]
  },
  {
   "cell_type": "code",
   "execution_count": 83,
   "metadata": {},
   "outputs": [],
   "source": [
    "# Replacing construction years with value 0 to null \n",
    "df_train_values['construction_year'] = df_train_values['construction_year'].replace(0,np.nan)\n",
    "# Changing to datetime format\n",
    "df_train_values['date_recorded'] = pd.to_datetime(df_train_values['date_recorded']).dt.year.astype(int)\n",
    "\n",
    "# Creating Age column based on input date and well construction year\n",
    "df_train_values['well_age'] = df_train_values['date_recorded'] - df_train_values['construction_year']\n"
   ]
  },
  {
   "cell_type": "code",
   "execution_count": 84,
   "metadata": {},
   "outputs": [],
   "source": [
    "# creating list of columns that will be dropped\n",
    "# Creating list of columns to drop, final list descriptions below\n",
    "drop = ['date_recorded','funder','wpt_name',\n",
    "       'subvillage','region','region_code','district_code','lga',\n",
    "       'gps_height','installer','population', 'public_meeting', 'recorded_by', 'scheme_name', 'permit',\n",
    "       'construction_year', 'extraction_type_group', 'extraction_type_class', 'management_group',\n",
    "       'payment_type', 'quality_group', 'quantity_group', 'source_type', 'source_class', 'waterpoint_type_group']\n",
    "\n",
    "drop2 = ['date_recorded','funder','wpt_name',\n",
    "        'ward','region','region_code','district_code','lga',\n",
    "        'gps_height', 'installer', 'population', 'public_meeting', 'recorded_by', 'scheme_name', 'permit',\n",
    "        'construction_year', 'extraction_type_group', 'extraction_type_class', 'management_group',\n",
    "        'payment_type', 'quality_group', 'quantity_group', 'source_type', 'source_class', 'waterpoint_type_group']\n",
    "\n",
    "drop3 = ['date_recorded','wpt_name', \n",
    "        'subvillage','region','region_code','district_code','lga',\n",
    "        'population', 'public_meeting', 'recorded_by', 'scheme_name', 'permit', 'construction_year',\n",
    "        'extraction_type_group', 'extraction_type_class', 'management_group', 'payment_type', 'quality_group',\n",
    "        'quantity_group', 'source_type', 'source_class', 'waterpoint_type_group']\n",
    "\n",
    "# Swap 'management_group' with 'management' if overfitting, and 'source_class' with 'source'"
   ]
  },
  {
   "cell_type": "markdown",
   "metadata": {},
   "source": [
    "**Drop Lists Information**\n",
    "\n",
    "drop - main list of columns being dropped\n",
    "\n",
    "drop2 - Using list: **drop**, dropping ward and adding subvillage\n",
    "\n",
    "drop3 - Using list: **drop**, adding funder, gps_height, installer, "
   ]
  },
  {
   "cell_type": "markdown",
   "metadata": {},
   "source": [
    "1. build best model\n",
    "2. try adding back in funder and just remove the nulls,\n",
    "3. build model based on location that has no zeros for amount_tsh (region, ward, lga)"
   ]
  },
  {
   "cell_type": "markdown",
   "metadata": {},
   "source": [
    "# Merge data sets"
   ]
  },
  {
   "cell_type": "code",
   "execution_count": 85,
   "metadata": {},
   "outputs": [
    {
     "data": {
      "text/plain": [
       "(59400, 41)"
      ]
     },
     "execution_count": 85,
     "metadata": {},
     "output_type": "execute_result"
    }
   ],
   "source": [
    "# Checking shape of df_train_values\n",
    "df_train_values.shape"
   ]
  },
  {
   "cell_type": "code",
   "execution_count": 86,
   "metadata": {},
   "outputs": [
    {
     "data": {
      "text/plain": [
       "(59400, 42)"
      ]
     },
     "execution_count": 86,
     "metadata": {},
     "output_type": "execute_result"
    }
   ],
   "source": [
    "# Merging datasets\n",
    "df_merged = df_train_values.merge(df_train_labels,how='left',on='id')\n",
    "# Checking Shape after merge\n",
    "df_merged.shape"
   ]
  },
  {
   "cell_type": "code",
   "execution_count": 87,
   "metadata": {},
   "outputs": [],
   "source": [
    "# Function to drop columns and nulls\n",
    "def dropper(df, drops):\n",
    "    '''\n",
    "    df : DataFrame\n",
    "    drop : list of columns to drop\n",
    "    '''\n",
    "    drop = drops.copy()\n",
    "    drop += ['latitude', 'longitude', 'id']\n",
    "    df = df.drop(columns=drop, axis=1).reset_index(drop=True)\n",
    "    df = df.dropna()\n",
    "    return(df)"
   ]
  },
  {
   "cell_type": "code",
   "execution_count": 88,
   "metadata": {},
   "outputs": [],
   "source": [
    "# new dataframes\n",
    "df = dropper(df_merged, drop)\n",
    "df2 = dropper(df_merged, drop2)\n",
    "df3 = dropper(df_merged, drop3)"
   ]
  },
  {
   "cell_type": "code",
   "execution_count": 89,
   "metadata": {
    "scrolled": false
   },
   "outputs": [
    {
     "data": {
      "text/plain": [
       "Index(['amount_tsh', 'funder', 'gps_height', 'installer', 'num_private',\n",
       "       'basin', 'ward', 'scheme_management', 'extraction_type', 'management',\n",
       "       'payment', 'water_quality', 'quantity', 'source', 'waterpoint_type',\n",
       "       'well_age', 'status_group'],\n",
       "      dtype='object')"
      ]
     },
     "execution_count": 89,
     "metadata": {},
     "output_type": "execute_result"
    }
   ],
   "source": [
    "df3.columns"
   ]
  },
  {
   "cell_type": "markdown",
   "metadata": {},
   "source": [
    "# Train-test Split"
   ]
  },
  {
   "cell_type": "code",
   "execution_count": 1019,
   "metadata": {},
   "outputs": [],
   "source": [
    "class model():\n",
    "    def __init__(self, model, X, y):\n",
    "        self.model = model\n",
    "        \n",
    "        self.X_train, self.X_test, self.y_train, self.y_test = train_test_split(X, y, random_state=42)\n",
    "        \n",
    "        \n",
    "        # .score()\n",
    "        self.score = self.model.score(self.X_test, self.y_test)\n",
    "        \n",
    "        self.y_pred_train = self.model.predict(self.X_train)\n",
    "        self.y_pred_test = self.model.predict(self.X_test)\n",
    "        \n",
    "        \n",
    "        \n",
    "    \n",
    "    def cross_validate(self, cv_input=10,**kwargs):\n",
    "        self.cvs_results = cross_val_score(X=self.X_train, y=self.y_train, estimator = self.model, cv=5,\n",
    "                                           **kwargs).mean() \n",
    "#         self.cv_results = cross_validate(X=self.X_train, y=self.y_train, estimator = self.model,\n",
    "#                                          cv=cv_input,return_train_score=True).mean()\n",
    "        print(f'CV Results: {self.cvs_results}')\n",
    "    \n",
    "    def test_report(self):\n",
    "        y_pred_test = self.model.predict(self.X_test)\n",
    "        print(classification_report(self.y_test, y_pred_test))\n",
    "        \n",
    "    def aprf(self, **kwargs):\n",
    "        # Accuracy, Precision, Recall, and F1-Score\n",
    "        y_pred_train = self.model.predict(self.X_train)\n",
    "        y_pred_test = self.model.predict(self.X_test)\n",
    "        try:\n",
    "            #accuracy\n",
    "            self.train_accuracy = accuracy_score(self.y_train, y_pred_train)\n",
    "            self.test_accuracy = accuracy_score(self.y_test, y_pred_test)\n",
    "            print(f'Training Accuracy: {self.train_accuracy}')\n",
    "            print(f'Testing Accuracy: {self.test_accuracy}')\n",
    "\n",
    "            # Precision\n",
    "            print(f'Training Precision: {precision_score(self.y_train, y_pred_train, **kwargs)}')\n",
    "            print(f'Testing Precision: {precision_score(self.y_test, y_pred_test, **kwargs)}')\n",
    "\n",
    "            # Recall\n",
    "            self.train_recall = recall_score(self.y_train, y_pred_train, **kwargs)\n",
    "            self.test_recall = recall_score(self.y_test, y_pred_test, **kwargs)\n",
    "            print(f'Training Recall: {self.train_recall}')\n",
    "            print(f'Testing Recall: {self.test_recall}')\n",
    "\n",
    "            # F1-Score\n",
    "            self.train_f1 = f1_score(self.y_train, y_pred_train, **kwargs)\n",
    "            self.test_f1 = f1_score(self.y_test, y_pred_test, **kwargs)\n",
    "            print(f'Training F1-Score: {self.train_f1}')\n",
    "            print(f'Testing F1-Score: {self.test_f1}')\n",
    "       \n",
    "        except Exception as e:\n",
    "            print(\"An error occurred:\", e)\n"
   ]
  },
  {
   "cell_type": "code",
   "execution_count": 893,
   "metadata": {},
   "outputs": [],
   "source": [
    "X = df3.drop(columns='status_group')\n",
    "y = df3['status_group']\n",
    "# Split the data\n",
    "X_train, X_test, y_train, y_test = train_test_split(X, y, random_state=42)"
   ]
  },
  {
   "cell_type": "code",
   "execution_count": 894,
   "metadata": {
    "scrolled": true
   },
   "outputs": [
    {
     "data": {
      "text/plain": [
       "functional                 0.569300\n",
       "non functional             0.365127\n",
       "functional needs repair    0.065574\n",
       "Name: status_group, dtype: float64"
      ]
     },
     "execution_count": 894,
     "metadata": {},
     "output_type": "execute_result"
    }
   ],
   "source": [
    "y_train.value_counts(normalize=1)"
   ]
  },
  {
   "cell_type": "markdown",
   "metadata": {},
   "source": [
    "# Baseline Model\n",
    "- Dummy Model"
   ]
  },
  {
   "cell_type": "code",
   "execution_count": 896,
   "metadata": {},
   "outputs": [],
   "source": [
    "dummy_model = DummyClassifier(strategy='most_frequent') #(strategy=\"constant\",constant='non functional')\n",
    "dummy_model.fit(X_train, y_train)\n",
    "y_pred = dummy_model.predict(X_train)"
   ]
  },
  {
   "cell_type": "code",
   "execution_count": 897,
   "metadata": {
    "scrolled": true
   },
   "outputs": [
    {
     "data": {
      "text/plain": [
       "0.5692995518505216"
      ]
     },
     "execution_count": 897,
     "metadata": {},
     "output_type": "execute_result"
    }
   ],
   "source": [
    "cv_results = cross_val_score(dummy_model, X_train, y_train, cv=5)\n",
    "cv_results.mean()"
   ]
  },
  {
   "cell_type": "markdown",
   "metadata": {},
   "source": [
    "54% accuraccy if we were to predict majority class"
   ]
  },
  {
   "cell_type": "code",
   "execution_count": 898,
   "metadata": {
    "scrolled": true
   },
   "outputs": [
    {
     "data": {
      "text/plain": [
       "<sklearn.metrics._plot.confusion_matrix.ConfusionMatrixDisplay at 0x7fe4651bc5e0>"
      ]
     },
     "execution_count": 898,
     "metadata": {},
     "output_type": "execute_result"
    },
    {
     "data": {
      "image/png": "[encoded data removed]",
      "text/plain": [
       "<Figure size 432x288 with 2 Axes>"
      ]
     },
     "metadata": {},
     "output_type": "display_data"
    }
   ],
   "source": [
    "plot_confusion_matrix(dummy_model, X_test, y_test)"
   ]
  },
  {
   "cell_type": "code",
   "execution_count": 1020,
   "metadata": {},
   "outputs": [],
   "source": [
    "baseline = model(dummy_model, X, y)"
   ]
  },
  {
   "cell_type": "code",
   "execution_count": 901,
   "metadata": {},
   "outputs": [
    {
     "name": "stdout",
     "output_type": "stream",
     "text": [
      "CV Results: 0.5692995518505216\n"
     ]
    }
   ],
   "source": [
    "baseline.cross_validate()"
   ]
  },
  {
   "cell_type": "code",
   "execution_count": 1003,
   "metadata": {
    "scrolled": true
   },
   "outputs": [
    {
     "name": "stdout",
     "output_type": "stream",
     "text": [
      "Training Accuracy: 0.5692995529061102\n",
      "Testing Accuracy: 0.573360843649702\n",
      "Training Precision: 0.32410198093909703\n",
      "Testing Precision: 0.328742657030698\n"
     ]
    },
    {
     "name": "stderr",
     "output_type": "stream",
     "text": [
      "/Users/keanan/opt/anaconda3/envs/learn-env/lib/python3.8/site-packages/sklearn/metrics/_classification.py:1221: UndefinedMetricWarning: Precision is ill-defined and being set to 0.0 in labels with no predicted samples. Use `zero_division` parameter to control this behavior.\n",
      "  _warn_prf(average, modifier, msg_start, len(result))\n"
     ]
    },
    {
     "name": "stdout",
     "output_type": "stream",
     "text": [
      "Training Recall: 0.5692995529061102\n",
      "Testing Recall: 0.573360843649702\n",
      "Training F1-Score: 0.4130530469328283\n",
      "Testing F1-Score: 0.4178859012000305\n"
     ]
    }
   ],
   "source": [
    "baseline.aprf(average= 'weighted')"
   ]
  },
  {
   "cell_type": "markdown",
   "metadata": {},
   "source": [
    "# Class Imbalance\n",
    "- Attempted using SMOTE in the pipeline, this had little to no impact on the model, removed due to extensive run time"
   ]
  },
  {
   "cell_type": "markdown",
   "metadata": {},
   "source": [
    "# Building pipeline"
   ]
  },
  {
   "cell_type": "code",
   "execution_count": 919,
   "metadata": {},
   "outputs": [],
   "source": [
    "# Numerics for scaling\n",
    "df_num = list(df3.select_dtypes(include='number').columns)\n",
    "# categoricals for one hot encoder\n",
    "df_cat = list(df3.select_dtypes(include='object').columns)\n",
    "df_cat.remove('status_group')"
   ]
  },
  {
   "cell_type": "code",
   "execution_count": 920,
   "metadata": {},
   "outputs": [],
   "source": [
    "# use or don't use simpleImputer?\n",
    "subpipe_num = Pipeline(steps=[('ss', StandardScaler())])\n",
    "\n",
    "subpipe_cat = Pipeline(steps=[('ohe', OneHotEncoder(sparse=False, handle_unknown='ignore'))])"
   ]
  },
  {
   "cell_type": "code",
   "execution_count": 921,
   "metadata": {},
   "outputs": [],
   "source": [
    "CT = ColumnTransformer(transformers=[('subpipe_num', subpipe_num, df_num),\n",
    "                                         ('subpipe_cat', subpipe_cat, df_cat)],\n",
    "                           remainder='passthrough')"
   ]
  },
  {
   "cell_type": "code",
   "execution_count": 116,
   "metadata": {},
   "outputs": [
    {
     "data": {
      "text/plain": [
       "0.8208185257365586"
      ]
     },
     "execution_count": 116,
     "metadata": {},
     "output_type": "execute_result"
    }
   ],
   "source": [
    "logreg_model_pipe = Pipeline(steps=[('ct', CT),\n",
    "                                    ('logreg', LogisticRegression(random_state=42, max_iter=100,n_jobs=-1))])\n",
    "                                    \n",
    "logreg_model_pipe.fit(X_train, y_train)\n",
    "logreg_model_pipe.score(X_train, y_train)"
   ]
  },
  {
   "cell_type": "code",
   "execution_count": 115,
   "metadata": {},
   "outputs": [
    {
     "data": {
      "text/plain": [
       "0.9938094692193052"
      ]
     },
     "execution_count": 115,
     "metadata": {},
     "output_type": "execute_result"
    }
   ],
   "source": [
    "rfc_model_pipe = Pipeline(steps=[('ct', CT,), \n",
    "                                 ('rfc', RandomForestClassifier(random_state=42,n_jobs= -1,))])\n",
    "\n",
    "rfc_model_pipe.fit(X_train, y_train)\n",
    "rfc_model_pipe.score(X_train, y_train)"
   ]
  },
  {
   "cell_type": "code",
   "execution_count": 101,
   "metadata": {
    "scrolled": true
   },
   "outputs": [
    {
     "data": {
      "text/plain": [
       "0.9938476823722725"
      ]
     },
     "execution_count": 101,
     "metadata": {},
     "output_type": "execute_result"
    }
   ],
   "source": [
    "dt_model_pipe = Pipeline(steps=[('ct', CT), \n",
    "                                   ('dt', DecisionTreeClassifier(random_state=42))])\n",
    "dt_model_pipe.fit(X_train, y_train)\n",
    "dt_model_pipe.score(X_train, y_train)"
   ]
  },
  {
   "cell_type": "markdown",
   "metadata": {},
   "source": [
    "# Model Evaluation"
   ]
  },
  {
   "cell_type": "code",
   "execution_count": 922,
   "metadata": {},
   "outputs": [],
   "source": [
    "random_forest = model(rfc_model_pipe, X, y)"
   ]
  },
  {
   "cell_type": "code",
   "execution_count": 924,
   "metadata": {
    "scrolled": true
   },
   "outputs": [
    {
     "name": "stdout",
     "output_type": "stream",
     "text": [
      "                         precision    recall  f1-score   support\n",
      "\n",
      "             functional       0.83      0.86      0.84      5002\n",
      "functional needs repair       0.43      0.31      0.36       591\n",
      "         non functional       0.79      0.78      0.79      3131\n",
      "\n",
      "               accuracy                           0.79      8724\n",
      "              macro avg       0.68      0.65      0.66      8724\n",
      "           weighted avg       0.79      0.79      0.79      8724\n",
      "\n"
     ]
    }
   ],
   "source": [
    "random_forest.test_report()"
   ]
  },
  {
   "cell_type": "code",
   "execution_count": 105,
   "metadata": {},
   "outputs": [
    {
     "name": "stdout",
     "output_type": "stream",
     "text": [
      "CV Results: 0.7909359644903623\n"
     ]
    }
   ],
   "source": [
    "random_forest.cross_validate(n_jobs=4)"
   ]
  },
  {
   "cell_type": "code",
   "execution_count": 925,
   "metadata": {},
   "outputs": [],
   "source": [
    "trees = model(dt_model_pipe, X, y)"
   ]
  },
  {
   "cell_type": "code",
   "execution_count": 926,
   "metadata": {},
   "outputs": [
    {
     "name": "stdout",
     "output_type": "stream",
     "text": [
      "                         precision    recall  f1-score   support\n",
      "\n",
      "             functional       0.81      0.81      0.81      5002\n",
      "functional needs repair       0.36      0.33      0.34       591\n",
      "         non functional       0.74      0.75      0.75      3131\n",
      "\n",
      "               accuracy                           0.76      8724\n",
      "              macro avg       0.64      0.63      0.63      8724\n",
      "           weighted avg       0.76      0.76      0.76      8724\n",
      "\n"
     ]
    }
   ],
   "source": [
    "trees.test_report()"
   ]
  },
  {
   "cell_type": "code",
   "execution_count": 108,
   "metadata": {
    "scrolled": true
   },
   "outputs": [
    {
     "name": "stdout",
     "output_type": "stream",
     "text": [
      "CV Results: 0.7633461657344732\n"
     ]
    }
   ],
   "source": [
    "trees.cross_validate(n_jobs=-3)"
   ]
  },
  {
   "cell_type": "code",
   "execution_count": 927,
   "metadata": {},
   "outputs": [],
   "source": [
    "logreg = model(logreg_model_pipe, X, y)"
   ]
  },
  {
   "cell_type": "code",
   "execution_count": 929,
   "metadata": {},
   "outputs": [
    {
     "name": "stdout",
     "output_type": "stream",
     "text": [
      "                         precision    recall  f1-score   support\n",
      "\n",
      "             functional       0.80      0.89      0.84      5002\n",
      "functional needs repair       0.54      0.19      0.28       591\n",
      "         non functional       0.80      0.75      0.77      3131\n",
      "\n",
      "               accuracy                           0.79      8724\n",
      "              macro avg       0.71      0.61      0.63      8724\n",
      "           weighted avg       0.78      0.79      0.78      8724\n",
      "\n"
     ]
    }
   ],
   "source": [
    "logreg.test_report()"
   ]
  },
  {
   "cell_type": "code",
   "execution_count": 112,
   "metadata": {
    "scrolled": false
   },
   "outputs": [
    {
     "name": "stdout",
     "output_type": "stream",
     "text": [
      "CV Results: 0.7889870221174361\n"
     ]
    }
   ],
   "source": [
    "logreg.cross_validate(n_jobs = -3)"
   ]
  },
  {
   "cell_type": "markdown",
   "metadata": {},
   "source": [
    "All three models are very overfit\n",
    "- Decision trees is the most overfit. \n",
    "- Random forest is the best model so far. Based on this I will be continuing with this model."
   ]
  },
  {
   "cell_type": "markdown",
   "metadata": {},
   "source": [
    "# Grid Search"
   ]
  },
  {
   "cell_type": "code",
   "execution_count": 168,
   "metadata": {},
   "outputs": [],
   "source": [
    "params_grid = {\"rfc__criterion\": [\"gini\", \"entropy\"],\n",
    "               \"rfc__max_depth\": [10, 20, 30, 40, 50],\n",
    "               \"rfc__min_samples_split\": [2, 5, 10],\n",
    "               \"rfc__min_samples_leaf\": [1, 5, 10, 15, 30, 50]\n",
    "              }"
   ]
  },
  {
   "cell_type": "code",
   "execution_count": 169,
   "metadata": {},
   "outputs": [],
   "source": [
    "gs = GridSearchCV(estimator=rfc_model_pipe,\n",
    "                 param_grid= params_grid,\n",
    "                 cv=5, verbose=3, n_jobs=-2)"
   ]
  },
  {
   "cell_type": "code",
   "execution_count": 170,
   "metadata": {
    "scrolled": false
   },
   "outputs": [
    {
     "name": "stdout",
     "output_type": "stream",
     "text": [
      "Fitting 5 folds for each of 180 candidates, totalling 900 fits\n"
     ]
    },
    {
     "name": "stderr",
     "output_type": "stream",
     "text": [
      "[Parallel(n_jobs=-2)]: Using backend LokyBackend with 7 concurrent workers.\n",
      "[Parallel(n_jobs=-2)]: Done  18 tasks      | elapsed:  2.7min\n",
      "[Parallel(n_jobs=-2)]: Done 114 tasks      | elapsed: 13.8min\n",
      "[Parallel(n_jobs=-2)]: Done 274 tasks      | elapsed: 37.2min\n",
      "[Parallel(n_jobs=-2)]: Done 498 tasks      | elapsed: 68.7min\n",
      "[Parallel(n_jobs=-2)]: Done 786 tasks      | elapsed: 108.8min\n",
      "[Parallel(n_jobs=-2)]: Done 900 out of 900 | elapsed: 124.2min finished\n"
     ]
    },
    {
     "data": {
      "text/plain": [
       "GridSearchCV(cv=5,\n",
       "             estimator=Pipeline(steps=[('ct',\n",
       "                                        ColumnTransformer(remainder='passthrough',\n",
       "                                                          transformers=[('subpipe_num',\n",
       "                                                                         Pipeline(steps=[('ss',\n",
       "                                                                                          StandardScaler())]),\n",
       "                                                                         ['amount_tsh',\n",
       "                                                                          'gps_height',\n",
       "                                                                          'num_private',\n",
       "                                                                          'well_age']),\n",
       "                                                                        ('subpipe_cat',\n",
       "                                                                         Pipeline(steps=[('ohe',\n",
       "                                                                                          OneHotEncoder(handle_unknown='ignore',\n",
       "                                                                                                        sparse=False))]),\n",
       "                                                                         ['funder',\n",
       "                                                                          'installer',\n",
       "                                                                          'basin',\n",
       "                                                                          'ward',\n",
       "                                                                          'sc...anagement',\n",
       "                                                                          'extraction_type',\n",
       "                                                                          'management',\n",
       "                                                                          'payment',\n",
       "                                                                          'water_quality',\n",
       "                                                                          'quantity',\n",
       "                                                                          'source',\n",
       "                                                                          'waterpoint_type'])])),\n",
       "                                       ('rfc',\n",
       "                                        RandomForestClassifier(n_jobs=-1,\n",
       "                                                               random_state=42))]),\n",
       "             n_jobs=-2,\n",
       "             param_grid={'rfc__criterion': ['gini', 'entropy'],\n",
       "                         'rfc__max_depth': [10, 20, 30, 40, 50],\n",
       "                         'rfc__min_samples_leaf': [1, 5, 10, 15, 30, 50],\n",
       "                         'rfc__min_samples_split': [2, 5, 10]},\n",
       "             verbose=3)"
      ]
     },
     "execution_count": 170,
     "metadata": {},
     "output_type": "execute_result"
    }
   ],
   "source": [
    "gs.fit(X_train, y_train)"
   ]
  },
  {
   "cell_type": "code",
   "execution_count": 171,
   "metadata": {
    "scrolled": false
   },
   "outputs": [
    {
     "data": {
      "text/plain": [
       "{'rfc__criterion': 'gini',\n",
       " 'rfc__max_depth': 50,\n",
       " 'rfc__min_samples_leaf': 1,\n",
       " 'rfc__min_samples_split': 5}"
      ]
     },
     "execution_count": 171,
     "metadata": {},
     "output_type": "execute_result"
    }
   ],
   "source": [
    "gs.best_params_"
   ]
  },
  {
   "cell_type": "code",
   "execution_count": 174,
   "metadata": {
    "scrolled": false
   },
   "outputs": [
    {
     "data": {
      "text/plain": [
       "0.808896219510512"
      ]
     },
     "execution_count": 174,
     "metadata": {},
     "output_type": "execute_result"
    }
   ],
   "source": [
    "gs.best_score_"
   ]
  },
  {
   "cell_type": "markdown",
   "metadata": {},
   "source": [
    "This model is better, but can still be improved"
   ]
  },
  {
   "cell_type": "markdown",
   "metadata": {},
   "source": [
    "# Grid search 2"
   ]
  },
  {
   "cell_type": "code",
   "execution_count": 176,
   "metadata": {},
   "outputs": [],
   "source": [
    "params_grid = {\"rfc__max_depth\": [45,50,55,60,65,70],\n",
    "               \"rfc__min_samples_split\": [4, 5, 6, 7],\n",
    "               \"rfc__min_samples_leaf\": [1, 2, 3, 4, 5]\n",
    "              }\n"
   ]
  },
  {
   "cell_type": "code",
   "execution_count": 177,
   "metadata": {},
   "outputs": [],
   "source": [
    "gs = GridSearchCV(estimator=rfc_model_pipe,\n",
    "                 param_grid= params_grid,\n",
    "                 cv=5, verbose=3, n_jobs=-2)"
   ]
  },
  {
   "cell_type": "code",
   "execution_count": 178,
   "metadata": {
    "scrolled": true
   },
   "outputs": [
    {
     "name": "stdout",
     "output_type": "stream",
     "text": [
      "Fitting 5 folds for each of 120 candidates, totalling 600 fits\n"
     ]
    },
    {
     "name": "stderr",
     "output_type": "stream",
     "text": [
      "[Parallel(n_jobs=-2)]: Using backend LokyBackend with 7 concurrent workers.\n",
      "[Parallel(n_jobs=-2)]: Done  18 tasks      | elapsed:  5.3min\n",
      "[Parallel(n_jobs=-2)]: Done 114 tasks      | elapsed: 25.3min\n",
      "[Parallel(n_jobs=-2)]: Done 274 tasks      | elapsed: 60.8min\n",
      "[Parallel(n_jobs=-2)]: Done 498 tasks      | elapsed: 109.0min\n",
      "[Parallel(n_jobs=-2)]: Done 600 out of 600 | elapsed: 130.9min finished\n"
     ]
    },
    {
     "data": {
      "text/plain": [
       "GridSearchCV(cv=5,\n",
       "             estimator=Pipeline(steps=[('ct',\n",
       "                                        ColumnTransformer(remainder='passthrough',\n",
       "                                                          transformers=[('subpipe_num',\n",
       "                                                                         Pipeline(steps=[('ss',\n",
       "                                                                                          StandardScaler())]),\n",
       "                                                                         ['amount_tsh',\n",
       "                                                                          'gps_height',\n",
       "                                                                          'num_private',\n",
       "                                                                          'well_age']),\n",
       "                                                                        ('subpipe_cat',\n",
       "                                                                         Pipeline(steps=[('ohe',\n",
       "                                                                                          OneHotEncoder(handle_unknown='ignore',\n",
       "                                                                                                        sparse=False))]),\n",
       "                                                                         ['funder',\n",
       "                                                                          'installer',\n",
       "                                                                          'basin',\n",
       "                                                                          'ward',\n",
       "                                                                          'scheme_management',\n",
       "                                                                          'extraction_type',\n",
       "                                                                          'management',\n",
       "                                                                          'payment',\n",
       "                                                                          'water_quality',\n",
       "                                                                          'quantity',\n",
       "                                                                          'source',\n",
       "                                                                          'waterpoint_type'])])),\n",
       "                                       ('rfc',\n",
       "                                        RandomForestClassifier(n_jobs=-1,\n",
       "                                                               random_state=42))]),\n",
       "             n_jobs=-2,\n",
       "             param_grid={'rfc__max_depth': [45, 50, 55, 60, 65, 70],\n",
       "                         'rfc__min_samples_leaf': [1, 2, 3, 4, 5],\n",
       "                         'rfc__min_samples_split': [4, 5, 6, 7]},\n",
       "             verbose=3)"
      ]
     },
     "execution_count": 178,
     "metadata": {},
     "output_type": "execute_result"
    }
   ],
   "source": [
    "gs.fit(X_train, y_train)"
   ]
  },
  {
   "cell_type": "code",
   "execution_count": 179,
   "metadata": {},
   "outputs": [
    {
     "data": {
      "text/plain": [
       "{'rfc__max_depth': 50, 'rfc__min_samples_leaf': 1, 'rfc__min_samples_split': 5}"
      ]
     },
     "execution_count": 179,
     "metadata": {},
     "output_type": "execute_result"
    }
   ],
   "source": [
    "gs.best_params_"
   ]
  },
  {
   "cell_type": "code",
   "execution_count": 180,
   "metadata": {
    "scrolled": true
   },
   "outputs": [
    {
     "data": {
      "text/plain": [
       "0.808896219510512"
      ]
     },
     "execution_count": 180,
     "metadata": {},
     "output_type": "execute_result"
    }
   ],
   "source": [
    "gs.best_score_"
   ]
  },
  {
   "cell_type": "code",
   "execution_count": null,
   "metadata": {},
   "outputs": [],
   "source": [
    "gs.cv_results_"
   ]
  },
  {
   "cell_type": "code",
   "execution_count": 930,
   "metadata": {},
   "outputs": [],
   "source": [
    "grid_2 = model(gs, X, y)"
   ]
  },
  {
   "cell_type": "code",
   "execution_count": 931,
   "metadata": {},
   "outputs": [
    {
     "name": "stdout",
     "output_type": "stream",
     "text": [
      "                         precision    recall  f1-score   support\n",
      "\n",
      "             functional       0.81      0.92      0.86      5002\n",
      "functional needs repair       0.59      0.22      0.32       591\n",
      "         non functional       0.84      0.76      0.80      3131\n",
      "\n",
      "               accuracy                           0.81      8724\n",
      "              macro avg       0.75      0.63      0.66      8724\n",
      "           weighted avg       0.81      0.81      0.80      8724\n",
      "\n"
     ]
    }
   ],
   "source": [
    "grid_2.test_report()"
   ]
  },
  {
   "cell_type": "markdown",
   "metadata": {},
   "source": [
    "Same results as above, going to attempt one more iteration"
   ]
  },
  {
   "cell_type": "markdown",
   "metadata": {},
   "source": [
    "# Grid search 3"
   ]
  },
  {
   "cell_type": "code",
   "execution_count": 698,
   "metadata": {},
   "outputs": [],
   "source": [
    "params_grid = {\"rfc__max_depth\": [50,55,60,65],\n",
    "               \"rfc__min_samples_split\": [3, 4, 5, 6],\n",
    "               'rfc__n_estimators': [100, 200, 300,400,500]\n",
    "              }"
   ]
  },
  {
   "cell_type": "code",
   "execution_count": 699,
   "metadata": {},
   "outputs": [],
   "source": [
    "gs3 = GridSearchCV(estimator=rfc_model_pipe,\n",
    "                 param_grid= params_grid,\n",
    "                 cv=5, verbose=3, n_jobs=-2)"
   ]
  },
  {
   "cell_type": "code",
   "execution_count": 700,
   "metadata": {
    "scrolled": false
   },
   "outputs": [
    {
     "name": "stdout",
     "output_type": "stream",
     "text": [
      "Fitting 5 folds for each of 80 candidates, totalling 400 fits\n"
     ]
    },
    {
     "name": "stderr",
     "output_type": "stream",
     "text": [
      "[Parallel(n_jobs=-2)]: Using backend LokyBackend with 7 concurrent workers.\n",
      "[Parallel(n_jobs=-2)]: Done  18 tasks      | elapsed: 13.1min\n",
      "[Parallel(n_jobs=-2)]: Done 114 tasks      | elapsed: 82.5min\n",
      "[Parallel(n_jobs=-2)]: Done 274 tasks      | elapsed: 204.2min\n",
      "[Parallel(n_jobs=-2)]: Done 400 out of 400 | elapsed: 298.9min finished\n"
     ]
    },
    {
     "data": {
      "text/plain": [
       "GridSearchCV(cv=5,\n",
       "             estimator=Pipeline(steps=[('ct',\n",
       "                                        ColumnTransformer(remainder='passthrough',\n",
       "                                                          transformers=[('subpipe_num',\n",
       "                                                                         Pipeline(steps=[('ss',\n",
       "                                                                                          StandardScaler())]),\n",
       "                                                                         ['amount_tsh',\n",
       "                                                                          'gps_height',\n",
       "                                                                          'num_private',\n",
       "                                                                          'well_age']),\n",
       "                                                                        ('subpipe_cat',\n",
       "                                                                         Pipeline(steps=[('ohe',\n",
       "                                                                                          OneHotEncoder(handle_unknown='ignore',\n",
       "                                                                                                        sparse=False))]),\n",
       "                                                                         ['funder',\n",
       "                                                                          'installer',\n",
       "                                                                          'basin',\n",
       "                                                                          'ward',\n",
       "                                                                          'scheme_management',\n",
       "                                                                          'extraction_type',\n",
       "                                                                          'management',\n",
       "                                                                          'payment',\n",
       "                                                                          'water_quality',\n",
       "                                                                          'quantity',\n",
       "                                                                          'source',\n",
       "                                                                          'waterpoint_type'])])),\n",
       "                                       ('rfc',\n",
       "                                        RandomForestClassifier(n_jobs=-1,\n",
       "                                                               random_state=42))]),\n",
       "             n_jobs=-2,\n",
       "             param_grid={'rfc__max_depth': [50, 55, 60, 65],\n",
       "                         'rfc__min_samples_split': [3, 4, 5, 6],\n",
       "                         'rfc__n_estimators': [100, 200, 300, 400, 500]},\n",
       "             verbose=3)"
      ]
     },
     "execution_count": 700,
     "metadata": {},
     "output_type": "execute_result"
    }
   ],
   "source": [
    "gs3.fit(X_train, y_train)"
   ]
  },
  {
   "cell_type": "code",
   "execution_count": 701,
   "metadata": {},
   "outputs": [
    {
     "data": {
      "text/plain": [
       "{'rfc__max_depth': 50, 'rfc__min_samples_split': 6, 'rfc__n_estimators': 200}"
      ]
     },
     "execution_count": 701,
     "metadata": {},
     "output_type": "execute_result"
    }
   ],
   "source": [
    "gs3.best_params_"
   ]
  },
  {
   "cell_type": "code",
   "execution_count": 702,
   "metadata": {},
   "outputs": [
    {
     "data": {
      "text/plain": [
       "0.8093546721990986"
      ]
     },
     "execution_count": 702,
     "metadata": {},
     "output_type": "execute_result"
    }
   ],
   "source": [
    "gs3.best_score_"
   ]
  },
  {
   "cell_type": "code",
   "execution_count": 932,
   "metadata": {},
   "outputs": [],
   "source": [
    "grid3 = model(gs3, X, y)"
   ]
  },
  {
   "cell_type": "code",
   "execution_count": 933,
   "metadata": {},
   "outputs": [
    {
     "name": "stdout",
     "output_type": "stream",
     "text": [
      "                         precision    recall  f1-score   support\n",
      "\n",
      "             functional       0.81      0.92      0.86      5002\n",
      "functional needs repair       0.61      0.22      0.32       591\n",
      "         non functional       0.84      0.76      0.80      3131\n",
      "\n",
      "               accuracy                           0.81      8724\n",
      "              macro avg       0.75      0.63      0.66      8724\n",
      "           weighted avg       0.81      0.81      0.80      8724\n",
      "\n"
     ]
    }
   ],
   "source": [
    "grid3.test_report()"
   ]
  },
  {
   "cell_type": "markdown",
   "metadata": {},
   "source": [
    "The grid search model appears to perform better, and after checking recall, f1-score, precision the 3rd grid search performed marginally better. "
   ]
  },
  {
   "cell_type": "markdown",
   "metadata": {},
   "source": [
    "# Final Model"
   ]
  },
  {
   "cell_type": "code",
   "execution_count": 721,
   "metadata": {},
   "outputs": [
    {
     "data": {
      "text/plain": [
       "0.9055370858649547"
      ]
     },
     "execution_count": 721,
     "metadata": {},
     "output_type": "execute_result"
    }
   ],
   "source": [
    "rfc_model_final = Pipeline(steps=[('ct', CT,), \n",
    "                                 ('rfc', RandomForestClassifier(random_state = 42, n_jobs= -1,\n",
    "                                                            max_depth = 50, min_samples_split = 5))])\n",
    "\n",
    "rfc_model_final.fit(X_train, y_train)\n",
    "rfc_model_final.score(X_train, y_train)"
   ]
  },
  {
   "cell_type": "code",
   "execution_count": 1021,
   "metadata": {},
   "outputs": [],
   "source": [
    "rfc_final = model(rfc_model_final, X, y)"
   ]
  },
  {
   "cell_type": "code",
   "execution_count": 951,
   "metadata": {
    "scrolled": true
   },
   "outputs": [
    {
     "name": "stdout",
     "output_type": "stream",
     "text": [
      "                         precision    recall  f1-score   support\n",
      "\n",
      "             functional       0.81      0.92      0.86      5002\n",
      "functional needs repair       0.59      0.22      0.32       591\n",
      "         non functional       0.84      0.76      0.80      3131\n",
      "\n",
      "               accuracy                           0.81      8724\n",
      "              macro avg       0.75      0.63      0.66      8724\n",
      "           weighted avg       0.81      0.81      0.80      8724\n",
      "\n"
     ]
    }
   ],
   "source": [
    "rfc_final.test_report()"
   ]
  },
  {
   "cell_type": "code",
   "execution_count": 724,
   "metadata": {},
   "outputs": [
    {
     "name": "stdout",
     "output_type": "stream",
     "text": [
      "CV Results: 0.808896219510512\n"
     ]
    }
   ],
   "source": [
    "rfc_final.cross_validate(n_jobs = -3)"
   ]
  },
  {
   "cell_type": "code",
   "execution_count": 999,
   "metadata": {
    "scrolled": false
   },
   "outputs": [
    {
     "name": "stdout",
     "output_type": "stream",
     "text": [
      "Training Accuracy: 0.9055370858649547\n",
      "Testing Accuracy: 0.8147638697845025\n",
      "Training Precision: 0.9083717394174935\n",
      "Testing Precision: 0.8062894325812344\n",
      "Training Recall: 0.9055370858649547\n",
      "Testing Recall: 0.8147638697845025\n",
      "Training F1-Score: 0.900165146965289\n",
      "Testing F1-Score: 0.802220652159275\n"
     ]
    }
   ],
   "source": [
    "rfc_final.aprf(average= 'weighted')"
   ]
  },
  {
   "cell_type": "markdown",
   "metadata": {},
   "source": [
    "This final model is still overfitting with a training score greater then the cross validation score"
   ]
  },
  {
   "cell_type": "markdown",
   "metadata": {},
   "source": [
    "# Model Evaluation\n",
    "\n",
    "- After running a grid search the final model performs better overall but is worse at reducing false positives.\n",
    "- Where as the original random forest model is better at handling false positives"
   ]
  },
  {
   "cell_type": "code",
   "execution_count": 731,
   "metadata": {},
   "outputs": [
    {
     "name": "stdout",
     "output_type": "stream",
     "text": [
      "Training Accuracy: 0.9938094692193052\n",
      "Testing Accuracy: 0.7945896377808345\n",
      "Training Precision: 0.9938054813744501\n",
      "Testing Precision: 0.7869521539496541\n",
      "Training Recall: 0.9938094692193052\n",
      "Testing Recall: 0.7945896377808345\n",
      "Training F1-Score: 0.9938038491705705\n",
      "Testing F1-Score: 0.7898785590444799\n"
     ]
    }
   ],
   "source": [
    "random_forest.aprf(average='weighted')"
   ]
  },
  {
   "cell_type": "markdown",
   "metadata": {},
   "source": [
    "Based on the Accuracy, Recall my final model performs better on the testing data"
   ]
  },
  {
   "cell_type": "code",
   "execution_count": 943,
   "metadata": {
    "scrolled": false
   },
   "outputs": [
    {
     "data": {
      "image/png": "[encoded data removed]",
      "text/plain": [
       "<Figure size 720x432 with 2 Axes>"
      ]
     },
     "metadata": {},
     "output_type": "display_data"
    }
   ],
   "source": [
    "fig, ax = plt.subplots(figsize = (10,6))\n",
    "\n",
    "plot_confusion_matrix(rfc_model_final, X_test, y_test, ax = ax);"
   ]
  },
  {
   "cell_type": "code",
   "execution_count": 1022,
   "metadata": {},
   "outputs": [
    {
     "data": {
      "text/plain": [
       "0.8147638697845025"
      ]
     },
     "execution_count": 1022,
     "metadata": {},
     "output_type": "execute_result"
    }
   ],
   "source": [
    "rfc_final.score"
   ]
  },
  {
   "cell_type": "code",
   "execution_count": 1023,
   "metadata": {},
   "outputs": [
    {
     "data": {
      "text/plain": [
       "0.573360843649702"
      ]
     },
     "execution_count": 1023,
     "metadata": {},
     "output_type": "execute_result"
    }
   ],
   "source": [
    "baseline.score"
   ]
  },
  {
   "cell_type": "markdown",
   "metadata": {},
   "source": [
    "# Feature Importance"
   ]
  },
  {
   "cell_type": "code",
   "execution_count": 264,
   "metadata": {},
   "outputs": [
    {
     "data": {
      "text/plain": [
       "RandomForestClassifier(max_depth=50, min_samples_split=5, n_jobs=-1,\n",
       "                       random_state=42)"
      ]
     },
     "execution_count": 264,
     "metadata": {},
     "output_type": "execute_result"
    }
   ],
   "source": [
    "rfc_model_final['rfc']"
   ]
  },
  {
   "cell_type": "code",
   "execution_count": 732,
   "metadata": {
    "scrolled": false
   },
   "outputs": [],
   "source": [
    "# Pulling transformed categorical features\n",
    "tf_names = CT.named_transformers_['subpipe_cat']['ohe'].get_feature_names().tolist()\n",
    "\n",
    "# Creating full list of features\n",
    "features_t = df_num.copy()\n",
    "features_t.extend(tf_names)"
   ]
  },
  {
   "cell_type": "code",
   "execution_count": 878,
   "metadata": {
    "scrolled": false
   },
   "outputs": [],
   "source": [
    "important_featured = {name: score \n",
    "                       for name, score \n",
    "                          in zip(features_t, rfc_model_final['rfc'].feature_importances_)}\n",
    "#                            in zip(X_train.columns, rfc_model_final['rfc'].feature_importances_)}\n",
    "\n",
    "# Sorting list of important features\n",
    "sorted_if = sorted(important_featured.items(), key= lambda x: x[1], reverse = True)\n",
    "\n",
    "# Top 15 Important Features\n",
    "im_df = pd.DataFrame(sorted_if[:12], columns=['Feature Name','Feature Importance'])"
   ]
  },
  {
   "cell_type": "code",
   "execution_count": 1014,
   "metadata": {
    "scrolled": false
   },
   "outputs": [
    {
     "data": {
      "image/png": "[encoded data removed]",
      "text/plain": [
       "<Figure size 720x432 with 1 Axes>"
      ]
     },
     "metadata": {},
     "output_type": "display_data"
    }
   ],
   "source": [
    "# Ploting Feature Importance\n",
    "# import branca.colormap as cm\n",
    "fig, ax = plt.subplots(figsize=(10,6))\n",
    "\n",
    "ax = sns.barplot(x=im_df['Feature Importance'], y=im_df['Feature Name'], palette= 'YlOrRd_r')\n",
    "ax.set_title('Well Functionality Feature Importance', fontsize=15)\n",
    "ax.set_xlabel('Features', fontsize=15)\n",
    "ax.set_ylabel('Importance', fontsize=15)\n",
    "\n",
    "# Changing Feature names\n",
    "\n",
    "new_names = ['GPS Height', 'Quantity: Dry', 'Well Age', 'Amount TSH', 'Quantity: Enough',\n",
    "             'Waterpoint Type: Other', 'Extraction Type: Other','Waterpoint Type: Standpipe',\n",
    "            'Payment: Never pay', 'Waterpoint Type: Multiple Standpipes', 'Quantity: Insufficient',\n",
    "            'Extraction Type: Gravity']\n",
    "ax.set_yticklabels(new_names);\n",
    "\n",
    "plt.savefig('feature_importance.png', dpi=100, bbox_inches='tight')"
   ]
  },
  {
   "cell_type": "markdown",
   "metadata": {},
   "source": [
    "# Futher analysis\n",
    "- Looking further for the wells that are recommened to needing repair, remove wells with a 0.0 TSH values\n",
    "- predict if or when a well will run dry, can be important to determine if its worth fixing a well.\n",
    "\n",
    "- Additionally rerun the grid search with a better scoring metric such as scoring='recall'\n"
   ]
  },
  {
   "cell_type": "code",
   "execution_count": 1015,
   "metadata": {
    "scrolled": false
   },
   "outputs": [
    {
     "data": {
      "image/png": "[encoded data removed]",
      "text/plain": [
       "<Figure size 720x576 with 1 Axes>"
      ]
     },
     "metadata": {},
     "output_type": "display_data"
    }
   ],
   "source": [
    "fig, ax = plt.subplots(figsize= (10,8))\n",
    "\n",
    "\n",
    "width = .3\n",
    "\n",
    "f1 = np.arange(3) \n",
    "f2 = [x + width for x in f1]\n",
    "\n",
    "ax.bar(f1, [baseline.test_recall, baseline.test_accuracy, baseline.test_f1], width, label='Baseline', color='grey')\n",
    "\n",
    "ax.bar(f2, [rfc_final.test_recall, rfc_final.test_accuracy, rfc_final.test_f1], \n",
    "       width, label='Random Forest', color='red')\n",
    "\n",
    "\n",
    "\n",
    "\n",
    "\n",
    "# Add labels and title\n",
    "ax.set_xlabel('Models')\n",
    "ax.set_ylabel('Recall Scores')\n",
    "ax.set_title('Models Recall Scores')\n",
    "\n",
    "ax.set_xticks(f1 + width/2)\n",
    "ax.set_xticklabels(['Accuracy', 'Recall','F1 Score'])\n",
    "\n",
    "ax.legend(fontsize=12,loc='upper right');\n",
    "\n",
    "plt.savefig('scores.png', dpi=100, bbox_inches='tight')"
   ]
  },
  {
   "cell_type": "markdown",
   "metadata": {},
   "source": [
    "# Conclusion\n",
    "\n",
    "When comparing the accuracy and recall scores from the baseline model to the final model, \n",
    "\n",
    "Baseline:\n",
    "- Accuracy - 57%\n",
    "- Recall - 57%\n",
    "\n",
    "Final Model:\n",
    "- Accuracy - 81%\n",
    "- Recall - 81%\n",
    "\n",
    "The final model used a random forest with optimized parameters. This model can be used to predict is a well is functional, non functional, or functional and needs repair. Safe access to clean water is a basic human right, these wells are important to ensuring that this human right is met. My model can help the Tanzanian government determine if a well needs to be fixed. "
   ]
  },
  {
   "cell_type": "code",
   "execution_count": null,
   "metadata": {},
   "outputs": [],
   "source": []
  }
 ],
 "metadata": {
  "kernelspec": {
   "display_name": "Python (learn-env)",
   "language": "python",
   "name": "learn-env"
  },
  "language_info": {
   "codemirror_mode": {
    "name": "ipython",
    "version": 3
   },
   "file_extension": ".py",
   "mimetype": "text/x-python",
   "name": "python",
   "nbconvert_exporter": "python",
   "pygments_lexer": "ipython3",
   "version": "3.8.5"
  }
 },
 "nbformat": 4,
 "nbformat_minor": 4
}
